{
 "cells": [
  {
   "cell_type": "markdown",
   "metadata": {},
   "source": [
    "# FOM - Anwendungsfelder der Business Analytics am Beispiel von Fraud Detection im von Kreditkartentransaktionen\n",
    "\n",
    "In diesem Jupyter Notebook soll der nicht-überwachte K-Means Algorithmus für das vollautomatische Clustering von Kreditkartentransaktionen verwendet werden. Dieser K-Means Algortihmus soll auf den in einer Kreditkartentransaktion bezahlten Geldbetrag angewandt werden, sodass im Anschluss geprüft werden kann, zu welchem Cluter eine Kreditkarte gehört. Mit diesem Vorgehen kann das Verwendungsprofil einer Kreditkarte identifiziert werden.\n",
    "\n",
    "<b>Für dieses Vorhaben werden folgende Schritte unternommen:</b>\n",
    "1. Import aller benötigten Python Packages\n",
    "2. Laden der Daten aus dem AWS S3 Bucket\n",
    "3. \n",
    "\n",
    "Im folgenden wird mit dem Import alles benötigten Python Packages begonnen."
   ]
  },
  {
   "cell_type": "code",
   "execution_count": 2,
   "metadata": {},
   "outputs": [],
   "source": [
    "# import python packages required for k-means-clustering\n",
    "import os\n",
    "import io\n",
    "import boto3\n",
    "import matplotlib.pyplot as plt\n",
    "import pandas as pd\n",
    "import seaborn as sns\n",
    "from sagemaker import KMeans, get_execution_role"
   ]
  },
  {
   "cell_type": "markdown",
   "metadata": {},
   "source": [
    "Daran anschließend werden zunächst die benötigten Trainings Daten importiert. Da diese in einem S3 Bucket gehalten werden, muss zunächst der <code>Boto3 Client</code> initialisiert werden."
   ]
  },
  {
   "cell_type": "code",
   "execution_count": 3,
   "metadata": {},
   "outputs": [],
   "source": [
    "s3_client = boto3.client('s3')\n",
    "bucket_name = 'anwendungsfelder-big-data-fraud-detection-ieee-cis-data-set'"
   ]
  },
  {
   "cell_type": "markdown",
   "metadata": {},
   "source": [
    "Der S3 Client wird nun für die Erstellung einer Liste aller in dem S3 Bucket enthaltenden Elemente verwendet."
   ]
  },
  {
   "cell_type": "code",
   "execution_count": 4,
   "metadata": {},
   "outputs": [
    {
     "name": "stdout",
     "output_type": "stream",
     "text": [
      "ResponseMetadata\n",
      "IsTruncated\n",
      "Marker\n",
      "Contents\n",
      "Name\n",
      "Prefix\n",
      "MaxKeys\n",
      "EncodingType\n"
     ]
    }
   ],
   "source": [
    "obj_list = s3_client.list_objects(Bucket=bucket_name)\n",
    "for element in obj_list:\n",
    "    print(element)"
   ]
  },
  {
   "cell_type": "markdown",
   "metadata": {},
   "source": [
    "Da der Inhalt benötigt wird, wird im folgenden der Key <code>Contents</code> betrachtet."
   ]
  },
  {
   "cell_type": "code",
   "execution_count": 5,
   "metadata": {},
   "outputs": [
    {
     "name": "stdout",
     "output_type": "stream",
     "text": [
      "0: data/\n",
      "1: data/ieee_cis_train_cropped/\n",
      "2: data/ieee_cis_train_cropped/Definite+cropped+ieeecis+data/2020/01/20/95edc928-d16f-4c73-9c76-0c6b03e7b2a2.csv.metadata\n",
      "3: data/ieee_cis_train_cropped/Definite+cropped+ieeecis+data/2020/01/20/final_cropped_data.csv\n",
      "4: data/ieee_cis_train_cropped/Unsaved/2020/01/18/63c36171-c759-4f56-bbc6-923798bacddf.csv.metadata\n",
      "5: data/ieee_cis_train_cropped/Unsaved/2020/01/18/train_cropped_transaction_identity.csv\n",
      "6: data/sample_submission.csv\n",
      "7: data/test_identity/\n",
      "8: data/test_identity/test_identity.csv\n",
      "9: data/test_transaction/\n",
      "10: data/test_transaction/test_transaction.csv\n",
      "11: data/train_identity/\n",
      "12: data/train_identity/train_identity.csv\n",
      "13: data/train_transaction/\n",
      "14: data/train_transaction/train_transaction.csv\n",
      "15: result/\n",
      "16: result/kmeans-2020-01-21-19-36-57-444/output/model.tar.gz\n"
     ]
    }
   ],
   "source": [
    "i = 0\n",
    "for content_element in obj_list['Contents']:\n",
    "    print(\"{}: {}\".format(str(i), content_element['Key']))\n",
    "    i += 1"
   ]
  },
  {
   "cell_type": "markdown",
   "metadata": {},
   "source": [
    "Die für diesen Anwendungsfall benötigten Daten liegen auf Index 3 (<code>data/ieee_cis_train_cropped/Definite+cropped+ieeecis+data/2020/01/20/final_cropped_data.csv</code>). Diese wurden bereits unter Verwendung von AWS Glue und AWS Athena vorbereitet.</br>\n",
    "Nun wird ein Array aus bestehend aus den in dem Bucket enthaltenden Element Keys erstellt und spezifiziert auf Index drei zugegriffen, sodass die Daten dann aus dem S3 Bucket geladen werden können."
   ]
  },
  {
   "cell_type": "code",
   "execution_count": 6,
   "metadata": {},
   "outputs": [
    {
     "name": "stdout",
     "output_type": "stream",
     "text": [
      "Number of elements in array: 17\n"
     ]
    }
   ],
   "source": [
    "# store each object key in a file array and print its length\n",
    "file_array = []\n",
    "for content_element in obj_list['Contents']:\n",
    "    file_array.append(content_element['Key'])\n",
    "\n",
    "print('Number of elements in array: {}'.format(len(file_array)))"
   ]
  },
  {
   "cell_type": "code",
   "execution_count": 7,
   "metadata": {},
   "outputs": [
    {
     "name": "stdout",
     "output_type": "stream",
     "text": [
      "data/ieee_cis_train_cropped/Definite+cropped+ieeecis+data/2020/01/20/final_cropped_data.csv\n"
     ]
    }
   ],
   "source": [
    "# get required file from array\n",
    "required_file = file_array[3]\n",
    "print(required_file)"
   ]
  },
  {
   "cell_type": "code",
   "execution_count": 8,
   "metadata": {},
   "outputs": [
    {
     "name": "stdout",
     "output_type": "stream",
     "text": [
      "Type of object: <class 'dict'>\n",
      "Type of object: <class 'bytes'>\n"
     ]
    }
   ],
   "source": [
    "s3_file = s3_client.get_object(Bucket=bucket_name, Key=required_file)\n",
    "print('Type of object: {}'.format(str(type(s3_file))))\n",
    "\n",
    "result_file = s3_file['Body'].read()\n",
    "print('Type of object: {}'.format(str(type(result_file))))"
   ]
  },
  {
   "cell_type": "markdown",
   "metadata": {},
   "source": [
    "Da jetzt die Daten vorliegen, können diese in ein DataFrame geladen werden. Dies wird mit den Python Package <code>pandas</code> und <code>io</code> erledigt. "
   ]
  },
  {
   "cell_type": "code",
   "execution_count": 9,
   "metadata": {},
   "outputs": [
    {
     "data": {
      "text/html": [
       "<div>\n",
       "<style scoped>\n",
       "    .dataframe tbody tr th:only-of-type {\n",
       "        vertical-align: middle;\n",
       "    }\n",
       "\n",
       "    .dataframe tbody tr th {\n",
       "        vertical-align: top;\n",
       "    }\n",
       "\n",
       "    .dataframe thead th {\n",
       "        text-align: right;\n",
       "    }\n",
       "</style>\n",
       "<table border=\"1\" class=\"dataframe\">\n",
       "  <thead>\n",
       "    <tr style=\"text-align: right;\">\n",
       "      <th></th>\n",
       "      <th>credit_card_number</th>\n",
       "      <th>transaction_id</th>\n",
       "      <th>transaction_is_fraudulent</th>\n",
       "      <th>amount_spent</th>\n",
       "      <th>transaction_time_delta</th>\n",
       "      <th>credit_card_holder</th>\n",
       "      <th>credit_card_expiration_date</th>\n",
       "      <th>crdeit_card_validation_code_two</th>\n",
       "    </tr>\n",
       "  </thead>\n",
       "  <tbody>\n",
       "    <tr>\n",
       "      <th>0</th>\n",
       "      <td>1000</td>\n",
       "      <td>3230924</td>\n",
       "      <td>0</td>\n",
       "      <td>23.443</td>\n",
       "      <td>5787419</td>\n",
       "      <td>555.0</td>\n",
       "      <td>185.0</td>\n",
       "      <td>224.0</td>\n",
       "    </tr>\n",
       "    <tr>\n",
       "      <th>1</th>\n",
       "      <td>1001</td>\n",
       "      <td>3023634</td>\n",
       "      <td>0</td>\n",
       "      <td>183.000</td>\n",
       "      <td>916268</td>\n",
       "      <td>555.0</td>\n",
       "      <td>150.0</td>\n",
       "      <td>226.0</td>\n",
       "    </tr>\n",
       "    <tr>\n",
       "      <th>2</th>\n",
       "      <td>1001</td>\n",
       "      <td>3210739</td>\n",
       "      <td>0</td>\n",
       "      <td>27.000</td>\n",
       "      <td>5270458</td>\n",
       "      <td>555.0</td>\n",
       "      <td>150.0</td>\n",
       "      <td>226.0</td>\n",
       "    </tr>\n",
       "    <tr>\n",
       "      <th>3</th>\n",
       "      <td>1001</td>\n",
       "      <td>3151336</td>\n",
       "      <td>0</td>\n",
       "      <td>29.000</td>\n",
       "      <td>3504180</td>\n",
       "      <td>555.0</td>\n",
       "      <td>150.0</td>\n",
       "      <td>226.0</td>\n",
       "    </tr>\n",
       "    <tr>\n",
       "      <th>4</th>\n",
       "      <td>1004</td>\n",
       "      <td>3504379</td>\n",
       "      <td>0</td>\n",
       "      <td>226.000</td>\n",
       "      <td>13553567</td>\n",
       "      <td>583.0</td>\n",
       "      <td>150.0</td>\n",
       "      <td>226.0</td>\n",
       "    </tr>\n",
       "    <tr>\n",
       "      <th>5</th>\n",
       "      <td>1004</td>\n",
       "      <td>3386444</td>\n",
       "      <td>0</td>\n",
       "      <td>50.000</td>\n",
       "      <td>10082484</td>\n",
       "      <td>583.0</td>\n",
       "      <td>150.0</td>\n",
       "      <td>226.0</td>\n",
       "    </tr>\n",
       "    <tr>\n",
       "      <th>6</th>\n",
       "      <td>1004</td>\n",
       "      <td>3028973</td>\n",
       "      <td>0</td>\n",
       "      <td>30.000</td>\n",
       "      <td>1022173</td>\n",
       "      <td>583.0</td>\n",
       "      <td>150.0</td>\n",
       "      <td>226.0</td>\n",
       "    </tr>\n",
       "    <tr>\n",
       "      <th>7</th>\n",
       "      <td>1004</td>\n",
       "      <td>3504371</td>\n",
       "      <td>0</td>\n",
       "      <td>226.000</td>\n",
       "      <td>13553346</td>\n",
       "      <td>583.0</td>\n",
       "      <td>150.0</td>\n",
       "      <td>226.0</td>\n",
       "    </tr>\n",
       "    <tr>\n",
       "      <th>8</th>\n",
       "      <td>1004</td>\n",
       "      <td>3020767</td>\n",
       "      <td>0</td>\n",
       "      <td>150.000</td>\n",
       "      <td>842821</td>\n",
       "      <td>583.0</td>\n",
       "      <td>150.0</td>\n",
       "      <td>226.0</td>\n",
       "    </tr>\n",
       "    <tr>\n",
       "      <th>9</th>\n",
       "      <td>1005</td>\n",
       "      <td>3038871</td>\n",
       "      <td>0</td>\n",
       "      <td>50.000</td>\n",
       "      <td>1212802</td>\n",
       "      <td>543.0</td>\n",
       "      <td>150.0</td>\n",
       "      <td>117.0</td>\n",
       "    </tr>\n",
       "    <tr>\n",
       "      <th>10</th>\n",
       "      <td>1006</td>\n",
       "      <td>3436647</td>\n",
       "      <td>0</td>\n",
       "      <td>100.000</td>\n",
       "      <td>11468973</td>\n",
       "      <td>399.0</td>\n",
       "      <td>150.0</td>\n",
       "      <td>146.0</td>\n",
       "    </tr>\n",
       "    <tr>\n",
       "      <th>11</th>\n",
       "      <td>1006</td>\n",
       "      <td>3095681</td>\n",
       "      <td>0</td>\n",
       "      <td>150.000</td>\n",
       "      <td>2145214</td>\n",
       "      <td>399.0</td>\n",
       "      <td>150.0</td>\n",
       "      <td>146.0</td>\n",
       "    </tr>\n",
       "    <tr>\n",
       "      <th>12</th>\n",
       "      <td>1006</td>\n",
       "      <td>3234681</td>\n",
       "      <td>0</td>\n",
       "      <td>150.000</td>\n",
       "      <td>5883179</td>\n",
       "      <td>399.0</td>\n",
       "      <td>150.0</td>\n",
       "      <td>146.0</td>\n",
       "    </tr>\n",
       "    <tr>\n",
       "      <th>13</th>\n",
       "      <td>1007</td>\n",
       "      <td>3021401</td>\n",
       "      <td>0</td>\n",
       "      <td>23.203</td>\n",
       "      <td>850730</td>\n",
       "      <td>555.0</td>\n",
       "      <td>135.0</td>\n",
       "      <td>224.0</td>\n",
       "    </tr>\n",
       "    <tr>\n",
       "      <th>14</th>\n",
       "      <td>1007</td>\n",
       "      <td>3226241</td>\n",
       "      <td>0</td>\n",
       "      <td>55.164</td>\n",
       "      <td>5651177</td>\n",
       "      <td>555.0</td>\n",
       "      <td>135.0</td>\n",
       "      <td>224.0</td>\n",
       "    </tr>\n",
       "  </tbody>\n",
       "</table>\n",
       "</div>"
      ],
      "text/plain": [
       "    credit_card_number  transaction_id  transaction_is_fraudulent  \\\n",
       "0                 1000         3230924                          0   \n",
       "1                 1001         3023634                          0   \n",
       "2                 1001         3210739                          0   \n",
       "3                 1001         3151336                          0   \n",
       "4                 1004         3504379                          0   \n",
       "5                 1004         3386444                          0   \n",
       "6                 1004         3028973                          0   \n",
       "7                 1004         3504371                          0   \n",
       "8                 1004         3020767                          0   \n",
       "9                 1005         3038871                          0   \n",
       "10                1006         3436647                          0   \n",
       "11                1006         3095681                          0   \n",
       "12                1006         3234681                          0   \n",
       "13                1007         3021401                          0   \n",
       "14                1007         3226241                          0   \n",
       "\n",
       "    amount_spent  transaction_time_delta  credit_card_holder  \\\n",
       "0         23.443                 5787419               555.0   \n",
       "1        183.000                  916268               555.0   \n",
       "2         27.000                 5270458               555.0   \n",
       "3         29.000                 3504180               555.0   \n",
       "4        226.000                13553567               583.0   \n",
       "5         50.000                10082484               583.0   \n",
       "6         30.000                 1022173               583.0   \n",
       "7        226.000                13553346               583.0   \n",
       "8        150.000                  842821               583.0   \n",
       "9         50.000                 1212802               543.0   \n",
       "10       100.000                11468973               399.0   \n",
       "11       150.000                 2145214               399.0   \n",
       "12       150.000                 5883179               399.0   \n",
       "13        23.203                  850730               555.0   \n",
       "14        55.164                 5651177               555.0   \n",
       "\n",
       "    credit_card_expiration_date  crdeit_card_validation_code_two  \n",
       "0                         185.0                            224.0  \n",
       "1                         150.0                            226.0  \n",
       "2                         150.0                            226.0  \n",
       "3                         150.0                            226.0  \n",
       "4                         150.0                            226.0  \n",
       "5                         150.0                            226.0  \n",
       "6                         150.0                            226.0  \n",
       "7                         150.0                            226.0  \n",
       "8                         150.0                            226.0  \n",
       "9                         150.0                            117.0  \n",
       "10                        150.0                            146.0  \n",
       "11                        150.0                            146.0  \n",
       "12                        150.0                            146.0  \n",
       "13                        135.0                            224.0  \n",
       "14                        135.0                            224.0  "
      ]
     },
     "execution_count": 9,
     "metadata": {},
     "output_type": "execute_result"
    }
   ],
   "source": [
    "df = pd.read_csv(io.BytesIO(result_file), header=0, delimiter=',')\n",
    "df.head(15)"
   ]
  },
  {
   "cell_type": "markdown",
   "metadata": {},
   "source": [
    "Anhand dieser Daten kann der bezahlte Geldbetrag einer jeden Kreditkarte visualisiert werden. Dafür wird ein Scatter Plot verwendet, da dieser jeden Geldbetrag anzeigt und ggf. auf Ausreisser innerhalb des Datensets aufmerksam macht. Dafür wird zunächst der durchschnittliche Geldbetrag bestimmt."
   ]
  },
  {
   "cell_type": "code",
   "execution_count": 18,
   "metadata": {},
   "outputs": [],
   "source": [
    "mean_values=[]\n",
    "mean_value=df['amount_spent'].agg('mean')\n",
    "for i in range(0,len(df['amount_spent'])):\n",
    "    mean_values.append(mean_value)"
   ]
  },
  {
   "cell_type": "markdown",
   "metadata": {},
   "source": [
    "Wenn dieser ermittelt und in einem Array abgelegt ist, kann der Scatter Plot erstellt werden."
   ]
  },
  {
   "cell_type": "code",
   "execution_count": 17,
   "metadata": {},
   "outputs": [
    {
     "data": {
      "image/png": "[encoded data removed]",
      "text/plain": [
       "<Figure size 2160x720 with 1 Axes>"
      ]
     },
     "metadata": {},
     "output_type": "display_data"
    }
   ],
   "source": [
    "fig,ax=plt.subplots()\n",
    "fig.set_size_inches(30,10)\n",
    "ax.scatter(x=df['credit_card_number'], y=df['amount_spent'])\n",
    "ax.scatter(x=df['credit_card_number'], y=mean_value, c='red', linestyle='-', linewidths=0.5, label='mean')\n",
    "plt.title('Amounts Spent')\n",
    "plt.xlabel('credit card number range')\n",
    "plt.ylabel('amounts spent')\n",
    "plt.show()"
   ]
  },
  {
   "cell_type": "markdown",
   "metadata": {},
   "source": [
    "Innerhalb des Scatter Plots ist zu entnehmen, dass ein Ausreiser vorhanden ist. Im Folgenden wird dessen genauer Wert nochmals ermittelt."
   ]
  },
  {
   "cell_type": "code",
   "execution_count": 15,
   "metadata": {},
   "outputs": [
    {
     "name": "stdout",
     "output_type": "stream",
     "text": [
      "31937.391\n"
     ]
    }
   ],
   "source": [
    "max_v=df['amount_spent'].max()\n",
    "print(max_v)"
   ]
  }
 ],
 "metadata": {
  "kernelspec": {
   "display_name": "conda_python3",
   "language": "python",
   "name": "conda_python3"
  },
  "language_info": {
   "codemirror_mode": {
    "name": "ipython",
    "version": 3
   },
   "file_extension": ".py",
   "mimetype": "text/x-python",
   "name": "python",
   "nbconvert_exporter": "python",
   "pygments_lexer": "ipython3",
   "version": "3.6.5"
  }
 },
 "nbformat": 4,
 "nbformat_minor": 4
}
