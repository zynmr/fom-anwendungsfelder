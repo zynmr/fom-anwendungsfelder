{
 "cells": [
  {
   "cell_type": "markdown",
   "metadata": {},
   "source": [
    "# FOM - Anwendungsfelder der Business Analytics am Beispiel von Fraud Detection im von Kreditkartentransaktionen\n",
    "In diesem Jupyter Note soll ein künstliches neuronales Netz (KNN) erstellt werden, mit welchem Kreditkartentransaktionen auf betrügerische Aktivitäten hin überprüft werden. Für die Umsetzung dieses Vorhabens sollen die in dem Notebook <code>ieee-cis-k-means</code> erstellten Daten und Tensorflow verwendet werden.</br></br>\n",
    "<b>Folgende Schritte sind zu erledigen</b>\n",
    "<ol>\n",
    "    <li>Import der nötigen Python Packages</li>\n",
    "    <li>Import der vorbereiteten Daten aus AWS S3</li>\n",
    "    <li>Normalisierung der importierten Daten</li>\n",
    "</ol>\n",
    "</br>\n",
    "Im folgenden werden die zu verwenden Python Packages importiert."
   ]
  },
  {
   "cell_type": "code",
   "execution_count": 1,
   "metadata": {},
   "outputs": [],
   "source": [
    "from __future__ import absolute_import, division, print_function, unicode_literals\n",
    "import boto3\n",
    "import io\n",
    "import matplotlib.pyplot as plt\n",
    "import numpy as py\n",
    "import pandas as pd\n",
    "import tensorflow as tf"
   ]
  },
  {
   "cell_type": "code",
   "execution_count": 2,
   "metadata": {},
   "outputs": [
    {
     "name": "stdout",
     "output_type": "stream",
     "text": [
      "Tensorflow version: 1.14.0\n"
     ]
    }
   ],
   "source": [
    "print('{}: {}'.format('Tensorflow version', tf.__version__))"
   ]
  },
  {
   "cell_type": "markdown",
   "metadata": {},
   "source": [
    "Nachdem die nötigen Python Packages importiert sind, können die zuletzt vorbereiteten Daten aus AWS S3 importiert werden.\n",
    "<br>\n",
    "## Import der vorbereiteten Daten aus AWS S3\n",
    "Für den Import von Daten aus AWS S3 muss zunächst der AWS S3 client initialisiert und der entsprechende Bucket Name angegeben werden."
   ]
  },
  {
   "cell_type": "code",
   "execution_count": 3,
   "metadata": {},
   "outputs": [],
   "source": [
    "s3_client = boto3.client('s3')\n",
    "bucket_name = 'anwendungsfelder-big-data-fraud-detection-ieee-cis-data-set'"
   ]
  },
  {
   "cell_type": "markdown",
   "metadata": {},
   "source": [
    "Anschließend wird eine Iteration über alle in dem AWS S3 Bucket enthaltende Objekte vorgenommen."
   ]
  },
  {
   "cell_type": "code",
   "execution_count": 4,
   "metadata": {},
   "outputs": [
    {
     "name": "stdout",
     "output_type": "stream",
     "text": [
      "Name\n",
      "ResponseMetadata\n",
      "MaxKeys\n",
      "Prefix\n",
      "Marker\n",
      "EncodingType\n",
      "IsTruncated\n",
      "Contents\n"
     ]
    }
   ],
   "source": [
    "obj_list = s3_client.list_objects(Bucket=bucket_name)\n",
    "for obj in obj_list:\n",
    "    print(obj)"
   ]
  },
  {
   "cell_type": "markdown",
   "metadata": {},
   "source": [
    "Da der Inhalt des Buckets benötigt wird, wird eine Iteration über den Inhalt des Buckets durchgeführt. Da aber das aus der Abfrage zurückkommende Objekt nicht bekannt ist, wird zunächst nur ein Element aus der Liste ausgegeben."
   ]
  },
  {
   "cell_type": "code",
   "execution_count": 5,
   "metadata": {},
   "outputs": [
    {
     "name": "stdout",
     "output_type": "stream",
     "text": [
      "{u'LastModified': datetime.datetime(2019, 11, 8, 14, 34, 4, tzinfo=tzlocal()), u'ETag': '\"d41d8cd98f00b204e9800998ecf8427e\"', u'StorageClass': 'STANDARD', u'Key': u'data/', u'Size': 0}\n"
     ]
    }
   ],
   "source": [
    "content_list = obj_list['Contents']\n",
    "print(content_list[0])"
   ]
  },
  {
   "cell_type": "markdown",
   "metadata": {},
   "source": [
    "<code>Key</code> scheint den relativen Pfad zu einem Objekt darzustellen. Im folgenden wird eine Iteration über diesen Key vorgenommen."
   ]
  },
  {
   "cell_type": "code",
   "execution_count": 6,
   "metadata": {},
   "outputs": [
    {
     "name": "stdout",
     "output_type": "stream",
     "text": [
      "1: data/clustering_result.csv\n"
     ]
    }
   ],
   "source": [
    "i = 0\n",
    "file_to_retrieve = 'clustering_result.csv'\n",
    "for content_element in content_list:\n",
    "    if file_to_retrieve in content_element['Key']: \n",
    "        print('{}: {}'.format(str(i), content_element['Key']))\n",
    "    i += 1"
   ]
  },
  {
   "cell_type": "code",
   "execution_count": 7,
   "metadata": {},
   "outputs": [
    {
     "name": "stdout",
     "output_type": "stream",
     "text": [
      "In Liste vorhandene Element: 1\n"
     ]
    }
   ],
   "source": [
    "file_list = []\n",
    "for content_element in content_list:\n",
    "    if file_to_retrieve in content_element['Key']:\n",
    "        file_list.append(content_element['Key'])\n",
    "print('In Liste vorhandene Element: {}'.format(str(len(file_list))))"
   ]
  },
  {
   "cell_type": "code",
   "execution_count": 8,
   "metadata": {},
   "outputs": [
    {
     "name": "stdout",
     "output_type": "stream",
     "text": [
      "Type of object: <type 'dict'>\n"
     ]
    }
   ],
   "source": [
    "s3_file = s3_client.get_object(Bucket=bucket_name, Key=file_list[0])\n",
    "print('Type of object: {}'.format(str(type(s3_file))))"
   ]
  },
  {
   "cell_type": "code",
   "execution_count": 9,
   "metadata": {},
   "outputs": [
    {
     "name": "stdout",
     "output_type": "stream",
     "text": [
      "{u'Body': <botocore.response.StreamingBody object at 0x7f24d5e264d0>, u'AcceptRanges': 'bytes', u'ContentType': 'binary/octet-stream', 'ResponseMetadata': {'HTTPStatusCode': 200, 'RetryAttempts': 0, 'HostId': 'gZlV+frV2jy5ROtSKChErlfNLrY6OxuWzvVUMqY0suFxO+uhmDalzC87yIE+J1agoR9tFt8j6Po=', 'RequestId': 'BA558D5277F286C1', 'HTTPHeaders': {'content-length': '19322227', 'x-amz-id-2': 'gZlV+frV2jy5ROtSKChErlfNLrY6OxuWzvVUMqY0suFxO+uhmDalzC87yIE+J1agoR9tFt8j6Po=', 'accept-ranges': 'bytes', 'server': 'AmazonS3', 'last-modified': 'Sun, 26 Jan 2020 17:08:04 GMT', 'x-amz-request-id': 'BA558D5277F286C1', 'etag': '\"79ad4dde2e2c759c52243eecf613ed88-3\"', 'date': 'Fri, 31 Jan 2020 16:04:29 GMT', 'content-type': 'binary/octet-stream'}}, u'LastModified': datetime.datetime(2020, 1, 26, 17, 8, 4, tzinfo=tzutc()), u'ContentLength': 19322227, u'ETag': '\"79ad4dde2e2c759c52243eecf613ed88-3\"', u'Metadata': {}}\n"
     ]
    }
   ],
   "source": [
    "print(s3_file)"
   ]
  },
  {
   "cell_type": "code",
   "execution_count": 10,
   "metadata": {},
   "outputs": [
    {
     "name": "stdout",
     "output_type": "stream",
     "text": [
      "Type of object: <type 'str'>\n"
     ]
    }
   ],
   "source": [
    "result_file = s3_file['Body'].read()\n",
    "print('Type of object: {}'.format(str(type(result_file))))"
   ]
  },
  {
   "cell_type": "markdown",
   "metadata": {},
   "source": [
    "## Normalisierung der importierten Daten\n",
    "Da die Daten vorhanden sind können diese in einem <code>DataFrame</code> dargestellt werden."
   ]
  },
  {
   "cell_type": "code",
   "execution_count": 11,
   "metadata": {},
   "outputs": [
    {
     "data": {
      "text/html": [
       "<div>\n",
       "<style scoped>\n",
       "    .dataframe tbody tr th:only-of-type {\n",
       "        vertical-align: middle;\n",
       "    }\n",
       "\n",
       "    .dataframe tbody tr th {\n",
       "        vertical-align: top;\n",
       "    }\n",
       "\n",
       "    .dataframe thead th {\n",
       "        text-align: right;\n",
       "    }\n",
       "</style>\n",
       "<table border=\"1\" class=\"dataframe\">\n",
       "  <thead>\n",
       "    <tr style=\"text-align: right;\">\n",
       "      <th></th>\n",
       "      <th>credit_card</th>\n",
       "      <th>transaction_id</th>\n",
       "      <th>amount_spent</th>\n",
       "      <th>belonging_to_cluster</th>\n",
       "    </tr>\n",
       "  </thead>\n",
       "  <tbody>\n",
       "    <tr>\n",
       "      <th>0</th>\n",
       "      <td>1000.0</td>\n",
       "      <td>3230924.0</td>\n",
       "      <td>23.443001</td>\n",
       "      <td>0.0</td>\n",
       "    </tr>\n",
       "    <tr>\n",
       "      <th>1</th>\n",
       "      <td>1001.0</td>\n",
       "      <td>3023634.0</td>\n",
       "      <td>183.000000</td>\n",
       "      <td>0.0</td>\n",
       "    </tr>\n",
       "    <tr>\n",
       "      <th>2</th>\n",
       "      <td>1001.0</td>\n",
       "      <td>3210739.0</td>\n",
       "      <td>27.000000</td>\n",
       "      <td>0.0</td>\n",
       "    </tr>\n",
       "    <tr>\n",
       "      <th>3</th>\n",
       "      <td>1001.0</td>\n",
       "      <td>3151336.0</td>\n",
       "      <td>29.000000</td>\n",
       "      <td>0.0</td>\n",
       "    </tr>\n",
       "    <tr>\n",
       "      <th>4</th>\n",
       "      <td>1004.0</td>\n",
       "      <td>3504379.0</td>\n",
       "      <td>226.000000</td>\n",
       "      <td>0.0</td>\n",
       "    </tr>\n",
       "  </tbody>\n",
       "</table>\n",
       "</div>"
      ],
      "text/plain": [
       "   credit_card  transaction_id  amount_spent  belonging_to_cluster\n",
       "0       1000.0       3230924.0     23.443001                   0.0\n",
       "1       1001.0       3023634.0    183.000000                   0.0\n",
       "2       1001.0       3210739.0     27.000000                   0.0\n",
       "3       1001.0       3151336.0     29.000000                   0.0\n",
       "4       1004.0       3504379.0    226.000000                   0.0"
      ]
     },
     "execution_count": 11,
     "metadata": {},
     "output_type": "execute_result"
    }
   ],
   "source": [
    "df = pd.read_csv(io.BytesIO(result_file), header=0)\n",
    "df.head()"
   ]
  },
  {
   "cell_type": "markdown",
   "metadata": {},
   "source": [
    "Bevor die Daten normalisiert werden können, werden diese mit dem tag <code>if_Fraud</code> angereichert. Daher müssen noch weitere Daten importiert werden."
   ]
  },
  {
   "cell_type": "code",
   "execution_count": 12,
   "metadata": {},
   "outputs": [
    {
     "name": "stdout",
     "output_type": "stream",
     "text": [
      "4: data/ieee_cis_train_cropped/Definite+cropped+ieeecis+data/2020/01/20/final_cropped_data.csv\n"
     ]
    }
   ],
   "source": [
    "i = 0\n",
    "file_to_retrieve_2 = 'final_cropped_data.csv'\n",
    "for content_element in content_list:\n",
    "    if file_to_retrieve_2 in content_element['Key']: \n",
    "        print('{}: {}'.format(str(i), content_element['Key']))\n",
    "    i += 1"
   ]
  },
  {
   "cell_type": "code",
   "execution_count": 13,
   "metadata": {},
   "outputs": [
    {
     "name": "stdout",
     "output_type": "stream",
     "text": [
      "In Liste vorhandene Element: 1\n"
     ]
    }
   ],
   "source": [
    "file_list_2 = []\n",
    "for content_element in content_list:\n",
    "    if file_to_retrieve_2 in content_element['Key']:\n",
    "        file_list_2.append(content_element['Key'])\n",
    "print('In Liste vorhandene Element: {}'.format(str(len(file_list))))"
   ]
  },
  {
   "cell_type": "code",
   "execution_count": 14,
   "metadata": {},
   "outputs": [
    {
     "name": "stdout",
     "output_type": "stream",
     "text": [
      "Type of object: <type 'dict'>\n"
     ]
    }
   ],
   "source": [
    "s3_file_2 = s3_client.get_object(Bucket=bucket_name, Key=file_list_2[0])\n",
    "print('Type of object: {}'.format(str(type(s3_file))))"
   ]
  },
  {
   "cell_type": "code",
   "execution_count": 15,
   "metadata": {},
   "outputs": [
    {
     "name": "stdout",
     "output_type": "stream",
     "text": [
      "Type of object: <type 'str'>\n"
     ]
    }
   ],
   "source": [
    "result_file_2 = s3_file_2['Body'].read()\n",
    "print('Type of object: {}'.format(str(type(result_file))))"
   ]
  },
  {
   "cell_type": "code",
   "execution_count": 16,
   "metadata": {},
   "outputs": [
    {
     "data": {
      "text/html": [
       "<div>\n",
       "<style scoped>\n",
       "    .dataframe tbody tr th:only-of-type {\n",
       "        vertical-align: middle;\n",
       "    }\n",
       "\n",
       "    .dataframe tbody tr th {\n",
       "        vertical-align: top;\n",
       "    }\n",
       "\n",
       "    .dataframe thead th {\n",
       "        text-align: right;\n",
       "    }\n",
       "</style>\n",
       "<table border=\"1\" class=\"dataframe\">\n",
       "  <thead>\n",
       "    <tr style=\"text-align: right;\">\n",
       "      <th></th>\n",
       "      <th>credit_card_number</th>\n",
       "      <th>transaction_id</th>\n",
       "      <th>transaction_is_fraudulent</th>\n",
       "      <th>amount_spent</th>\n",
       "      <th>transaction_time_delta</th>\n",
       "      <th>credit_card_holder</th>\n",
       "      <th>credit_card_expiration_date</th>\n",
       "      <th>crdeit_card_validation_code_two</th>\n",
       "    </tr>\n",
       "  </thead>\n",
       "  <tbody>\n",
       "    <tr>\n",
       "      <th>0</th>\n",
       "      <td>1000</td>\n",
       "      <td>3230924</td>\n",
       "      <td>0</td>\n",
       "      <td>23.443</td>\n",
       "      <td>5787419</td>\n",
       "      <td>555.0</td>\n",
       "      <td>185.0</td>\n",
       "      <td>224.0</td>\n",
       "    </tr>\n",
       "    <tr>\n",
       "      <th>1</th>\n",
       "      <td>1001</td>\n",
       "      <td>3023634</td>\n",
       "      <td>0</td>\n",
       "      <td>183.000</td>\n",
       "      <td>916268</td>\n",
       "      <td>555.0</td>\n",
       "      <td>150.0</td>\n",
       "      <td>226.0</td>\n",
       "    </tr>\n",
       "    <tr>\n",
       "      <th>2</th>\n",
       "      <td>1001</td>\n",
       "      <td>3210739</td>\n",
       "      <td>0</td>\n",
       "      <td>27.000</td>\n",
       "      <td>5270458</td>\n",
       "      <td>555.0</td>\n",
       "      <td>150.0</td>\n",
       "      <td>226.0</td>\n",
       "    </tr>\n",
       "    <tr>\n",
       "      <th>3</th>\n",
       "      <td>1001</td>\n",
       "      <td>3151336</td>\n",
       "      <td>0</td>\n",
       "      <td>29.000</td>\n",
       "      <td>3504180</td>\n",
       "      <td>555.0</td>\n",
       "      <td>150.0</td>\n",
       "      <td>226.0</td>\n",
       "    </tr>\n",
       "    <tr>\n",
       "      <th>4</th>\n",
       "      <td>1004</td>\n",
       "      <td>3504379</td>\n",
       "      <td>0</td>\n",
       "      <td>226.000</td>\n",
       "      <td>13553567</td>\n",
       "      <td>583.0</td>\n",
       "      <td>150.0</td>\n",
       "      <td>226.0</td>\n",
       "    </tr>\n",
       "  </tbody>\n",
       "</table>\n",
       "</div>"
      ],
      "text/plain": [
       "   credit_card_number  transaction_id  transaction_is_fraudulent  \\\n",
       "0                1000         3230924                          0   \n",
       "1                1001         3023634                          0   \n",
       "2                1001         3210739                          0   \n",
       "3                1001         3151336                          0   \n",
       "4                1004         3504379                          0   \n",
       "\n",
       "   amount_spent  transaction_time_delta  credit_card_holder  \\\n",
       "0        23.443                 5787419               555.0   \n",
       "1       183.000                  916268               555.0   \n",
       "2        27.000                 5270458               555.0   \n",
       "3        29.000                 3504180               555.0   \n",
       "4       226.000                13553567               583.0   \n",
       "\n",
       "   credit_card_expiration_date  crdeit_card_validation_code_two  \n",
       "0                        185.0                            224.0  \n",
       "1                        150.0                            226.0  \n",
       "2                        150.0                            226.0  \n",
       "3                        150.0                            226.0  \n",
       "4                        150.0                            226.0  "
      ]
     },
     "execution_count": 16,
     "metadata": {},
     "output_type": "execute_result"
    }
   ],
   "source": [
    "df2 = pd.read_csv(io.BytesIO(result_file_2), header=0)\n",
    "df2.head()"
   ]
  },
  {
   "cell_type": "markdown",
   "metadata": {},
   "source": [
    "Da nun die Grundlage für die als erste importierten vorliegen, können nun die Datentypen angepasst werden."
   ]
  },
  {
   "cell_type": "code",
   "execution_count": 17,
   "metadata": {},
   "outputs": [
    {
     "data": {
      "text/plain": [
       "credit_card             float64\n",
       "transaction_id          float64\n",
       "amount_spent            float64\n",
       "belonging_to_cluster    float64\n",
       "dtype: object"
      ]
     },
     "execution_count": 17,
     "metadata": {},
     "output_type": "execute_result"
    }
   ],
   "source": [
    "df.dtypes"
   ]
  },
  {
   "cell_type": "code",
   "execution_count": 23,
   "metadata": {
    "collapsed": true,
    "jupyter": {
     "outputs_hidden": true
    }
   },
   "outputs": [
    {
     "data": {
      "text/html": [
       "<div>\n",
       "<style scoped>\n",
       "    .dataframe tbody tr th:only-of-type {\n",
       "        vertical-align: middle;\n",
       "    }\n",
       "\n",
       "    .dataframe tbody tr th {\n",
       "        vertical-align: top;\n",
       "    }\n",
       "\n",
       "    .dataframe thead th {\n",
       "        text-align: right;\n",
       "    }\n",
       "</style>\n",
       "<table border=\"1\" class=\"dataframe\">\n",
       "  <thead>\n",
       "    <tr style=\"text-align: right;\">\n",
       "      <th></th>\n",
       "      <th>credit_card</th>\n",
       "      <th>transaction_id</th>\n",
       "      <th>amount_spent</th>\n",
       "      <th>belonging_to_cluster</th>\n",
       "    </tr>\n",
       "  </thead>\n",
       "  <tbody>\n",
       "    <tr>\n",
       "      <th>0</th>\n",
       "      <td>1000</td>\n",
       "      <td>3230924</td>\n",
       "      <td>23.443001</td>\n",
       "      <td>0.0</td>\n",
       "    </tr>\n",
       "    <tr>\n",
       "      <th>1</th>\n",
       "      <td>1001</td>\n",
       "      <td>3023634</td>\n",
       "      <td>183.000000</td>\n",
       "      <td>0.0</td>\n",
       "    </tr>\n",
       "    <tr>\n",
       "      <th>2</th>\n",
       "      <td>1001</td>\n",
       "      <td>3210739</td>\n",
       "      <td>27.000000</td>\n",
       "      <td>0.0</td>\n",
       "    </tr>\n",
       "    <tr>\n",
       "      <th>3</th>\n",
       "      <td>1001</td>\n",
       "      <td>3151336</td>\n",
       "      <td>29.000000</td>\n",
       "      <td>0.0</td>\n",
       "    </tr>\n",
       "    <tr>\n",
       "      <th>4</th>\n",
       "      <td>1004</td>\n",
       "      <td>3504379</td>\n",
       "      <td>226.000000</td>\n",
       "      <td>0.0</td>\n",
       "    </tr>\n",
       "    <tr>\n",
       "      <th>5</th>\n",
       "      <td>1004</td>\n",
       "      <td>3386444</td>\n",
       "      <td>50.000000</td>\n",
       "      <td>0.0</td>\n",
       "    </tr>\n",
       "    <tr>\n",
       "      <th>6</th>\n",
       "      <td>1004</td>\n",
       "      <td>3028973</td>\n",
       "      <td>30.000000</td>\n",
       "      <td>0.0</td>\n",
       "    </tr>\n",
       "    <tr>\n",
       "      <th>7</th>\n",
       "      <td>1004</td>\n",
       "      <td>3504371</td>\n",
       "      <td>226.000000</td>\n",
       "      <td>0.0</td>\n",
       "    </tr>\n",
       "    <tr>\n",
       "      <th>8</th>\n",
       "      <td>1004</td>\n",
       "      <td>3020767</td>\n",
       "      <td>150.000000</td>\n",
       "      <td>0.0</td>\n",
       "    </tr>\n",
       "    <tr>\n",
       "      <th>9</th>\n",
       "      <td>1000</td>\n",
       "      <td>3230924</td>\n",
       "      <td>23.443001</td>\n",
       "      <td>0.0</td>\n",
       "    </tr>\n",
       "    <tr>\n",
       "      <th>10</th>\n",
       "      <td>1001</td>\n",
       "      <td>3023634</td>\n",
       "      <td>183.000000</td>\n",
       "      <td>0.0</td>\n",
       "    </tr>\n",
       "    <tr>\n",
       "      <th>11</th>\n",
       "      <td>1001</td>\n",
       "      <td>3210739</td>\n",
       "      <td>27.000000</td>\n",
       "      <td>0.0</td>\n",
       "    </tr>\n",
       "    <tr>\n",
       "      <th>12</th>\n",
       "      <td>1001</td>\n",
       "      <td>3151336</td>\n",
       "      <td>29.000000</td>\n",
       "      <td>0.0</td>\n",
       "    </tr>\n",
       "    <tr>\n",
       "      <th>13</th>\n",
       "      <td>1004</td>\n",
       "      <td>3504379</td>\n",
       "      <td>226.000000</td>\n",
       "      <td>0.0</td>\n",
       "    </tr>\n",
       "    <tr>\n",
       "      <th>14</th>\n",
       "      <td>1004</td>\n",
       "      <td>3386444</td>\n",
       "      <td>50.000000</td>\n",
       "      <td>0.0</td>\n",
       "    </tr>\n",
       "    <tr>\n",
       "      <th>15</th>\n",
       "      <td>1004</td>\n",
       "      <td>3028973</td>\n",
       "      <td>30.000000</td>\n",
       "      <td>0.0</td>\n",
       "    </tr>\n",
       "    <tr>\n",
       "      <th>16</th>\n",
       "      <td>1004</td>\n",
       "      <td>3504371</td>\n",
       "      <td>226.000000</td>\n",
       "      <td>0.0</td>\n",
       "    </tr>\n",
       "    <tr>\n",
       "      <th>17</th>\n",
       "      <td>1004</td>\n",
       "      <td>3020767</td>\n",
       "      <td>150.000000</td>\n",
       "      <td>0.0</td>\n",
       "    </tr>\n",
       "    <tr>\n",
       "      <th>18</th>\n",
       "      <td>1005</td>\n",
       "      <td>3038871</td>\n",
       "      <td>50.000000</td>\n",
       "      <td>0.0</td>\n",
       "    </tr>\n",
       "    <tr>\n",
       "      <th>19</th>\n",
       "      <td>1006</td>\n",
       "      <td>3436647</td>\n",
       "      <td>100.000000</td>\n",
       "      <td>0.0</td>\n",
       "    </tr>\n",
       "    <tr>\n",
       "      <th>20</th>\n",
       "      <td>1006</td>\n",
       "      <td>3095681</td>\n",
       "      <td>150.000000</td>\n",
       "      <td>0.0</td>\n",
       "    </tr>\n",
       "    <tr>\n",
       "      <th>21</th>\n",
       "      <td>1006</td>\n",
       "      <td>3234681</td>\n",
       "      <td>150.000000</td>\n",
       "      <td>0.0</td>\n",
       "    </tr>\n",
       "    <tr>\n",
       "      <th>22</th>\n",
       "      <td>1007</td>\n",
       "      <td>3021401</td>\n",
       "      <td>23.202999</td>\n",
       "      <td>0.0</td>\n",
       "    </tr>\n",
       "    <tr>\n",
       "      <th>23</th>\n",
       "      <td>1007</td>\n",
       "      <td>3226241</td>\n",
       "      <td>55.164001</td>\n",
       "      <td>0.0</td>\n",
       "    </tr>\n",
       "    <tr>\n",
       "      <th>24</th>\n",
       "      <td>1008</td>\n",
       "      <td>3537798</td>\n",
       "      <td>24.500000</td>\n",
       "      <td>0.0</td>\n",
       "    </tr>\n",
       "    <tr>\n",
       "      <th>25</th>\n",
       "      <td>1008</td>\n",
       "      <td>3280242</td>\n",
       "      <td>100.000000</td>\n",
       "      <td>0.0</td>\n",
       "    </tr>\n",
       "    <tr>\n",
       "      <th>26</th>\n",
       "      <td>1008</td>\n",
       "      <td>3232272</td>\n",
       "      <td>57.950001</td>\n",
       "      <td>0.0</td>\n",
       "    </tr>\n",
       "    <tr>\n",
       "      <th>27</th>\n",
       "      <td>1009</td>\n",
       "      <td>3024078</td>\n",
       "      <td>150.000000</td>\n",
       "      <td>0.0</td>\n",
       "    </tr>\n",
       "    <tr>\n",
       "      <th>28</th>\n",
       "      <td>1009</td>\n",
       "      <td>2999616</td>\n",
       "      <td>200.000000</td>\n",
       "      <td>0.0</td>\n",
       "    </tr>\n",
       "    <tr>\n",
       "      <th>29</th>\n",
       "      <td>1009</td>\n",
       "      <td>3054866</td>\n",
       "      <td>50.000000</td>\n",
       "      <td>0.0</td>\n",
       "    </tr>\n",
       "    <tr>\n",
       "      <th>...</th>\n",
       "      <td>...</td>\n",
       "      <td>...</td>\n",
       "      <td>...</td>\n",
       "      <td>...</td>\n",
       "    </tr>\n",
       "    <tr>\n",
       "      <th>590519</th>\n",
       "      <td>18390</td>\n",
       "      <td>3140063</td>\n",
       "      <td>30.950001</td>\n",
       "      <td>0.0</td>\n",
       "    </tr>\n",
       "    <tr>\n",
       "      <th>590520</th>\n",
       "      <td>18390</td>\n",
       "      <td>3519768</td>\n",
       "      <td>25.950001</td>\n",
       "      <td>0.0</td>\n",
       "    </tr>\n",
       "    <tr>\n",
       "      <th>590521</th>\n",
       "      <td>18390</td>\n",
       "      <td>3519889</td>\n",
       "      <td>117.000000</td>\n",
       "      <td>0.0</td>\n",
       "    </tr>\n",
       "    <tr>\n",
       "      <th>590522</th>\n",
       "      <td>18390</td>\n",
       "      <td>3541803</td>\n",
       "      <td>19.500000</td>\n",
       "      <td>0.0</td>\n",
       "    </tr>\n",
       "    <tr>\n",
       "      <th>590523</th>\n",
       "      <td>18390</td>\n",
       "      <td>3265806</td>\n",
       "      <td>35.950001</td>\n",
       "      <td>0.0</td>\n",
       "    </tr>\n",
       "    <tr>\n",
       "      <th>590524</th>\n",
       "      <td>18390</td>\n",
       "      <td>3474101</td>\n",
       "      <td>15.000000</td>\n",
       "      <td>0.0</td>\n",
       "    </tr>\n",
       "    <tr>\n",
       "      <th>590525</th>\n",
       "      <td>18390</td>\n",
       "      <td>3254642</td>\n",
       "      <td>29.000000</td>\n",
       "      <td>0.0</td>\n",
       "    </tr>\n",
       "    <tr>\n",
       "      <th>590526</th>\n",
       "      <td>18390</td>\n",
       "      <td>3250532</td>\n",
       "      <td>21.500000</td>\n",
       "      <td>0.0</td>\n",
       "    </tr>\n",
       "    <tr>\n",
       "      <th>590527</th>\n",
       "      <td>18390</td>\n",
       "      <td>3180900</td>\n",
       "      <td>35.950001</td>\n",
       "      <td>0.0</td>\n",
       "    </tr>\n",
       "    <tr>\n",
       "      <th>590528</th>\n",
       "      <td>18390</td>\n",
       "      <td>3460248</td>\n",
       "      <td>49.000000</td>\n",
       "      <td>0.0</td>\n",
       "    </tr>\n",
       "    <tr>\n",
       "      <th>590529</th>\n",
       "      <td>18390</td>\n",
       "      <td>3460772</td>\n",
       "      <td>49.000000</td>\n",
       "      <td>0.0</td>\n",
       "    </tr>\n",
       "    <tr>\n",
       "      <th>590530</th>\n",
       "      <td>18390</td>\n",
       "      <td>3214156</td>\n",
       "      <td>29.500000</td>\n",
       "      <td>0.0</td>\n",
       "    </tr>\n",
       "    <tr>\n",
       "      <th>590531</th>\n",
       "      <td>18390</td>\n",
       "      <td>3144548</td>\n",
       "      <td>59.000000</td>\n",
       "      <td>0.0</td>\n",
       "    </tr>\n",
       "    <tr>\n",
       "      <th>590532</th>\n",
       "      <td>18390</td>\n",
       "      <td>3560982</td>\n",
       "      <td>34.500000</td>\n",
       "      <td>0.0</td>\n",
       "    </tr>\n",
       "    <tr>\n",
       "      <th>590533</th>\n",
       "      <td>18391</td>\n",
       "      <td>3250377</td>\n",
       "      <td>171.000000</td>\n",
       "      <td>0.0</td>\n",
       "    </tr>\n",
       "    <tr>\n",
       "      <th>590534</th>\n",
       "      <td>18393</td>\n",
       "      <td>3162645</td>\n",
       "      <td>797.950012</td>\n",
       "      <td>2.0</td>\n",
       "    </tr>\n",
       "    <tr>\n",
       "      <th>590535</th>\n",
       "      <td>18393</td>\n",
       "      <td>3018301</td>\n",
       "      <td>108.500000</td>\n",
       "      <td>0.0</td>\n",
       "    </tr>\n",
       "    <tr>\n",
       "      <th>590536</th>\n",
       "      <td>18393</td>\n",
       "      <td>3381618</td>\n",
       "      <td>59.000000</td>\n",
       "      <td>0.0</td>\n",
       "    </tr>\n",
       "    <tr>\n",
       "      <th>590537</th>\n",
       "      <td>18395</td>\n",
       "      <td>3328706</td>\n",
       "      <td>232.470001</td>\n",
       "      <td>0.0</td>\n",
       "    </tr>\n",
       "    <tr>\n",
       "      <th>590538</th>\n",
       "      <td>18395</td>\n",
       "      <td>3419314</td>\n",
       "      <td>232.470001</td>\n",
       "      <td>0.0</td>\n",
       "    </tr>\n",
       "    <tr>\n",
       "      <th>590539</th>\n",
       "      <td>18395</td>\n",
       "      <td>3420746</td>\n",
       "      <td>36.950001</td>\n",
       "      <td>0.0</td>\n",
       "    </tr>\n",
       "    <tr>\n",
       "      <th>590540</th>\n",
       "      <td>18395</td>\n",
       "      <td>3380915</td>\n",
       "      <td>26.950001</td>\n",
       "      <td>0.0</td>\n",
       "    </tr>\n",
       "    <tr>\n",
       "      <th>590541</th>\n",
       "      <td>18395</td>\n",
       "      <td>3446622</td>\n",
       "      <td>36.950001</td>\n",
       "      <td>0.0</td>\n",
       "    </tr>\n",
       "    <tr>\n",
       "      <th>590542</th>\n",
       "      <td>18395</td>\n",
       "      <td>3336610</td>\n",
       "      <td>58.950001</td>\n",
       "      <td>0.0</td>\n",
       "    </tr>\n",
       "    <tr>\n",
       "      <th>590543</th>\n",
       "      <td>18395</td>\n",
       "      <td>3225325</td>\n",
       "      <td>21.950001</td>\n",
       "      <td>0.0</td>\n",
       "    </tr>\n",
       "    <tr>\n",
       "      <th>590544</th>\n",
       "      <td>18395</td>\n",
       "      <td>3053321</td>\n",
       "      <td>29.000000</td>\n",
       "      <td>0.0</td>\n",
       "    </tr>\n",
       "    <tr>\n",
       "      <th>590545</th>\n",
       "      <td>18395</td>\n",
       "      <td>3480204</td>\n",
       "      <td>36.950001</td>\n",
       "      <td>0.0</td>\n",
       "    </tr>\n",
       "    <tr>\n",
       "      <th>590546</th>\n",
       "      <td>18395</td>\n",
       "      <td>3267465</td>\n",
       "      <td>26.950001</td>\n",
       "      <td>0.0</td>\n",
       "    </tr>\n",
       "    <tr>\n",
       "      <th>590547</th>\n",
       "      <td>18395</td>\n",
       "      <td>3207532</td>\n",
       "      <td>48.950001</td>\n",
       "      <td>0.0</td>\n",
       "    </tr>\n",
       "    <tr>\n",
       "      <th>590548</th>\n",
       "      <td>18396</td>\n",
       "      <td>3102181</td>\n",
       "      <td>100.000000</td>\n",
       "      <td>0.0</td>\n",
       "    </tr>\n",
       "  </tbody>\n",
       "</table>\n",
       "<p>590549 rows × 4 columns</p>\n",
       "</div>"
      ],
      "text/plain": [
       "        credit_card  transaction_id  amount_spent  belonging_to_cluster\n",
       "0              1000         3230924     23.443001                   0.0\n",
       "1              1001         3023634    183.000000                   0.0\n",
       "2              1001         3210739     27.000000                   0.0\n",
       "3              1001         3151336     29.000000                   0.0\n",
       "4              1004         3504379    226.000000                   0.0\n",
       "5              1004         3386444     50.000000                   0.0\n",
       "6              1004         3028973     30.000000                   0.0\n",
       "7              1004         3504371    226.000000                   0.0\n",
       "8              1004         3020767    150.000000                   0.0\n",
       "9              1000         3230924     23.443001                   0.0\n",
       "10             1001         3023634    183.000000                   0.0\n",
       "11             1001         3210739     27.000000                   0.0\n",
       "12             1001         3151336     29.000000                   0.0\n",
       "13             1004         3504379    226.000000                   0.0\n",
       "14             1004         3386444     50.000000                   0.0\n",
       "15             1004         3028973     30.000000                   0.0\n",
       "16             1004         3504371    226.000000                   0.0\n",
       "17             1004         3020767    150.000000                   0.0\n",
       "18             1005         3038871     50.000000                   0.0\n",
       "19             1006         3436647    100.000000                   0.0\n",
       "20             1006         3095681    150.000000                   0.0\n",
       "21             1006         3234681    150.000000                   0.0\n",
       "22             1007         3021401     23.202999                   0.0\n",
       "23             1007         3226241     55.164001                   0.0\n",
       "24             1008         3537798     24.500000                   0.0\n",
       "25             1008         3280242    100.000000                   0.0\n",
       "26             1008         3232272     57.950001                   0.0\n",
       "27             1009         3024078    150.000000                   0.0\n",
       "28             1009         2999616    200.000000                   0.0\n",
       "29             1009         3054866     50.000000                   0.0\n",
       "...             ...             ...           ...                   ...\n",
       "590519        18390         3140063     30.950001                   0.0\n",
       "590520        18390         3519768     25.950001                   0.0\n",
       "590521        18390         3519889    117.000000                   0.0\n",
       "590522        18390         3541803     19.500000                   0.0\n",
       "590523        18390         3265806     35.950001                   0.0\n",
       "590524        18390         3474101     15.000000                   0.0\n",
       "590525        18390         3254642     29.000000                   0.0\n",
       "590526        18390         3250532     21.500000                   0.0\n",
       "590527        18390         3180900     35.950001                   0.0\n",
       "590528        18390         3460248     49.000000                   0.0\n",
       "590529        18390         3460772     49.000000                   0.0\n",
       "590530        18390         3214156     29.500000                   0.0\n",
       "590531        18390         3144548     59.000000                   0.0\n",
       "590532        18390         3560982     34.500000                   0.0\n",
       "590533        18391         3250377    171.000000                   0.0\n",
       "590534        18393         3162645    797.950012                   2.0\n",
       "590535        18393         3018301    108.500000                   0.0\n",
       "590536        18393         3381618     59.000000                   0.0\n",
       "590537        18395         3328706    232.470001                   0.0\n",
       "590538        18395         3419314    232.470001                   0.0\n",
       "590539        18395         3420746     36.950001                   0.0\n",
       "590540        18395         3380915     26.950001                   0.0\n",
       "590541        18395         3446622     36.950001                   0.0\n",
       "590542        18395         3336610     58.950001                   0.0\n",
       "590543        18395         3225325     21.950001                   0.0\n",
       "590544        18395         3053321     29.000000                   0.0\n",
       "590545        18395         3480204     36.950001                   0.0\n",
       "590546        18395         3267465     26.950001                   0.0\n",
       "590547        18395         3207532     48.950001                   0.0\n",
       "590548        18396         3102181    100.000000                   0.0\n",
       "\n",
       "[590549 rows x 4 columns]"
      ]
     },
     "execution_count": 23,
     "metadata": {},
     "output_type": "execute_result"
    }
   ],
   "source": [
    "df.astype({\n",
    "    'credit_card' : 'int32',\n",
    "    'transaction_id' : 'int32',\n",
    "    })"
   ]
  },
  {
   "cell_type": "code",
   "execution_count": null,
   "metadata": {},
   "outputs": [],
   "source": []
  }
 ],
 "metadata": {
  "kernelspec": {
   "display_name": "conda_amazonei_tensorflow_p27",
   "language": "python",
   "name": "conda_amazonei_tensorflow_p27"
  },
  "language_info": {
   "codemirror_mode": {
    "name": "ipython",
    "version": 2
   },
   "file_extension": ".py",
   "mimetype": "text/x-python",
   "name": "python",
   "nbconvert_exporter": "python",
   "pygments_lexer": "ipython2",
   "version": "2.7.15"
  }
 },
 "nbformat": 4,
 "nbformat_minor": 4
}
