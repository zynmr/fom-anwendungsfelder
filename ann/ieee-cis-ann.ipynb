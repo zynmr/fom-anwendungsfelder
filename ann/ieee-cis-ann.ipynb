{
 "cells": [
  {
   "cell_type": "markdown",
   "metadata": {},
   "source": [
    "# FOM - Anwendungsfelder der Business Analytics am Beispiel von Fraud Detection im von Kreditkartentransaktionen\n",
    "In diesem Jupyter Note soll ein künstliches neuronales Netz (KNN) erstellt werden, mit welchem Kreditkartentransaktionen auf betrügerische Aktivitäten hin überprüft werden. Für die Umsetzung dieses Vorhabens sollen die in dem Notebook <code>ieee-cis-k-means</code> erstellten Daten und Tensorflow verwendet werden.</br></br>\n",
    "<b>Folgende Schritte sind zu erledigen</b>\n",
    "<ol>\n",
    "    <li>Import der nötigen Python Packages</li>\n",
    "    <li>Import der vorbereiteten Daten aus AWS S3</li>\n",
    "    <li>Normalisierung der importierten Daten</li>\n",
    "</ol>\n",
    "</br>\n",
    "Im folgenden werden die zu verwenden Python Packages importiert."
   ]
  },
  {
   "cell_type": "code",
   "execution_count": 1,
   "metadata": {},
   "outputs": [],
   "source": [
    "from __future__ import absolute_import, division, print_function, unicode_literals\n",
    "from sklearn import preprocessing\n",
    "from tensorflow import keras\n",
    "import boto3\n",
    "import io\n",
    "import matplotlib.pyplot as plt\n",
    "import numpy as np\n",
    "import pandas as pd\n",
    "import tensorflow as tf"
   ]
  },
  {
   "cell_type": "code",
   "execution_count": 2,
   "metadata": {},
   "outputs": [
    {
     "name": "stdout",
     "output_type": "stream",
     "text": [
      "Tensorflow version: 1.14.0\n"
     ]
    }
   ],
   "source": [
    "print('{}: {}'.format('Tensorflow version', tf.__version__))"
   ]
  },
  {
   "cell_type": "markdown",
   "metadata": {},
   "source": [
    "Nachdem die nötigen Python Packages importiert sind, können die zuletzt vorbereiteten Daten aus AWS S3 importiert werden.\n",
    "<br>\n",
    "## Import der vorbereiteten Daten aus AWS S3\n",
    "Für den Import von Daten aus AWS S3 muss zunächst der AWS S3 client initialisiert und der entsprechende Bucket Name angegeben werden."
   ]
  },
  {
   "cell_type": "code",
   "execution_count": 3,
   "metadata": {},
   "outputs": [],
   "source": [
    "s3_client = boto3.client('s3')\n",
    "bucket_name = 'anwendungsfelder-big-data-fraud-detection-ieee-cis-data-set'"
   ]
  },
  {
   "cell_type": "markdown",
   "metadata": {},
   "source": [
    "Anschließend wird eine Iteration über alle in dem AWS S3 Bucket enthaltende Objekte vorgenommen."
   ]
  },
  {
   "cell_type": "code",
   "execution_count": 4,
   "metadata": {},
   "outputs": [
    {
     "name": "stdout",
     "output_type": "stream",
     "text": [
      "Name\n",
      "ResponseMetadata\n",
      "MaxKeys\n",
      "Prefix\n",
      "Marker\n",
      "EncodingType\n",
      "IsTruncated\n",
      "Contents\n"
     ]
    }
   ],
   "source": [
    "obj_list = s3_client.list_objects(Bucket=bucket_name)\n",
    "for obj in obj_list:\n",
    "    print(obj)"
   ]
  },
  {
   "cell_type": "markdown",
   "metadata": {},
   "source": [
    "Da der Inhalt des Buckets benötigt wird, wird eine Iteration über den Inhalt des Buckets durchgeführt. Da aber das aus der Abfrage zurückkommende Objekt nicht bekannt ist, wird zunächst nur ein Element aus der Liste ausgegeben."
   ]
  },
  {
   "cell_type": "code",
   "execution_count": 5,
   "metadata": {},
   "outputs": [
    {
     "name": "stdout",
     "output_type": "stream",
     "text": [
      "{u'LastModified': datetime.datetime(2019, 11, 8, 14, 34, 4, tzinfo=tzlocal()), u'ETag': '\"d41d8cd98f00b204e9800998ecf8427e\"', u'StorageClass': 'STANDARD', u'Key': u'data/', u'Size': 0}\n"
     ]
    }
   ],
   "source": [
    "content_list = obj_list['Contents']\n",
    "print(content_list[0])"
   ]
  },
  {
   "cell_type": "markdown",
   "metadata": {},
   "source": [
    "<code>Key</code> scheint den relativen Pfad zu einem Objekt darzustellen. Im folgenden wird eine Iteration über diesen Key vorgenommen."
   ]
  },
  {
   "cell_type": "code",
   "execution_count": 6,
   "metadata": {},
   "outputs": [
    {
     "name": "stdout",
     "output_type": "stream",
     "text": [
      "1: data/clustering_result.csv\n"
     ]
    }
   ],
   "source": [
    "i = 0\n",
    "file_to_retrieve = 'clustering_result.csv'\n",
    "for content_element in content_list:\n",
    "    if file_to_retrieve in content_element['Key']: \n",
    "        print('{}: {}'.format(str(i), content_element['Key']))\n",
    "    i += 1"
   ]
  },
  {
   "cell_type": "code",
   "execution_count": 7,
   "metadata": {},
   "outputs": [
    {
     "name": "stdout",
     "output_type": "stream",
     "text": [
      "In Liste vorhandene Element: 1\n"
     ]
    }
   ],
   "source": [
    "file_list = []\n",
    "for content_element in content_list:\n",
    "    if file_to_retrieve in content_element['Key']:\n",
    "        file_list.append(content_element['Key'])\n",
    "print('In Liste vorhandene Element: {}'.format(str(len(file_list))))"
   ]
  },
  {
   "cell_type": "code",
   "execution_count": 8,
   "metadata": {},
   "outputs": [
    {
     "name": "stdout",
     "output_type": "stream",
     "text": [
      "Type of object: <type 'dict'>\n"
     ]
    }
   ],
   "source": [
    "s3_file = s3_client.get_object(Bucket=bucket_name, Key=file_list[0])\n",
    "print('Type of object: {}'.format(str(type(s3_file))))"
   ]
  },
  {
   "cell_type": "code",
   "execution_count": 9,
   "metadata": {},
   "outputs": [
    {
     "name": "stdout",
     "output_type": "stream",
     "text": [
      "{u'Body': <botocore.response.StreamingBody object at 0x7fa01152e110>, u'AcceptRanges': 'bytes', u'ContentType': 'binary/octet-stream', 'ResponseMetadata': {'HTTPStatusCode': 200, 'RetryAttempts': 0, 'HostId': 'lM8EwyBWjmwgu7Lq4tHuZf5k0ILooOM/sn8PXxE7bplkPSsSpAnfph2F0l2H9RodR9LNbZPTiS4=', 'RequestId': '357FA0F10EE72C93', 'HTTPHeaders': {'content-length': '19322227', 'x-amz-id-2': 'lM8EwyBWjmwgu7Lq4tHuZf5k0ILooOM/sn8PXxE7bplkPSsSpAnfph2F0l2H9RodR9LNbZPTiS4=', 'accept-ranges': 'bytes', 'server': 'AmazonS3', 'last-modified': 'Sun, 26 Jan 2020 17:08:04 GMT', 'x-amz-request-id': '357FA0F10EE72C93', 'etag': '\"79ad4dde2e2c759c52243eecf613ed88-3\"', 'date': 'Sun, 02 Feb 2020 11:30:04 GMT', 'content-type': 'binary/octet-stream'}}, u'LastModified': datetime.datetime(2020, 1, 26, 17, 8, 4, tzinfo=tzutc()), u'ContentLength': 19322227, u'ETag': '\"79ad4dde2e2c759c52243eecf613ed88-3\"', u'Metadata': {}}\n"
     ]
    }
   ],
   "source": [
    "print(s3_file)"
   ]
  },
  {
   "cell_type": "code",
   "execution_count": 10,
   "metadata": {},
   "outputs": [
    {
     "name": "stdout",
     "output_type": "stream",
     "text": [
      "Type of object: <type 'str'>\n"
     ]
    }
   ],
   "source": [
    "result_file = s3_file['Body'].read()\n",
    "print('Type of object: {}'.format(str(type(result_file))))"
   ]
  },
  {
   "cell_type": "markdown",
   "metadata": {},
   "source": [
    "## Normalisierung der importierten Daten\n",
    "Da die Daten vorhanden sind können diese in einem <code>DataFrame</code> dargestellt werden."
   ]
  },
  {
   "cell_type": "code",
   "execution_count": 11,
   "metadata": {},
   "outputs": [
    {
     "data": {
      "text/html": [
       "<div>\n",
       "<style scoped>\n",
       "    .dataframe tbody tr th:only-of-type {\n",
       "        vertical-align: middle;\n",
       "    }\n",
       "\n",
       "    .dataframe tbody tr th {\n",
       "        vertical-align: top;\n",
       "    }\n",
       "\n",
       "    .dataframe thead th {\n",
       "        text-align: right;\n",
       "    }\n",
       "</style>\n",
       "<table border=\"1\" class=\"dataframe\">\n",
       "  <thead>\n",
       "    <tr style=\"text-align: right;\">\n",
       "      <th></th>\n",
       "      <th>credit_card</th>\n",
       "      <th>transaction_id</th>\n",
       "      <th>amount_spent</th>\n",
       "      <th>belonging_to_cluster</th>\n",
       "    </tr>\n",
       "  </thead>\n",
       "  <tbody>\n",
       "    <tr>\n",
       "      <th>0</th>\n",
       "      <td>1000.0</td>\n",
       "      <td>3230924.0</td>\n",
       "      <td>23.443001</td>\n",
       "      <td>0.0</td>\n",
       "    </tr>\n",
       "    <tr>\n",
       "      <th>1</th>\n",
       "      <td>1001.0</td>\n",
       "      <td>3023634.0</td>\n",
       "      <td>183.000000</td>\n",
       "      <td>0.0</td>\n",
       "    </tr>\n",
       "    <tr>\n",
       "      <th>2</th>\n",
       "      <td>1001.0</td>\n",
       "      <td>3210739.0</td>\n",
       "      <td>27.000000</td>\n",
       "      <td>0.0</td>\n",
       "    </tr>\n",
       "    <tr>\n",
       "      <th>3</th>\n",
       "      <td>1001.0</td>\n",
       "      <td>3151336.0</td>\n",
       "      <td>29.000000</td>\n",
       "      <td>0.0</td>\n",
       "    </tr>\n",
       "    <tr>\n",
       "      <th>4</th>\n",
       "      <td>1004.0</td>\n",
       "      <td>3504379.0</td>\n",
       "      <td>226.000000</td>\n",
       "      <td>0.0</td>\n",
       "    </tr>\n",
       "  </tbody>\n",
       "</table>\n",
       "</div>"
      ],
      "text/plain": [
       "   credit_card  transaction_id  amount_spent  belonging_to_cluster\n",
       "0       1000.0       3230924.0     23.443001                   0.0\n",
       "1       1001.0       3023634.0    183.000000                   0.0\n",
       "2       1001.0       3210739.0     27.000000                   0.0\n",
       "3       1001.0       3151336.0     29.000000                   0.0\n",
       "4       1004.0       3504379.0    226.000000                   0.0"
      ]
     },
     "execution_count": 11,
     "metadata": {},
     "output_type": "execute_result"
    }
   ],
   "source": [
    "df = pd.read_csv(io.BytesIO(result_file), header=0)\n",
    "df.head()"
   ]
  },
  {
   "cell_type": "code",
   "execution_count": 12,
   "metadata": {},
   "outputs": [
    {
     "data": {
      "text/plain": [
       "(590549, 4)"
      ]
     },
     "execution_count": 12,
     "metadata": {},
     "output_type": "execute_result"
    }
   ],
   "source": [
    "df.shape"
   ]
  },
  {
   "cell_type": "markdown",
   "metadata": {},
   "source": [
    "Bevor die Daten normalisiert werden können, werden diese mit dem tag <code>if_Fraud</code> angereichert. Daher müssen noch weitere Daten importiert werden."
   ]
  },
  {
   "cell_type": "code",
   "execution_count": 13,
   "metadata": {},
   "outputs": [
    {
     "name": "stdout",
     "output_type": "stream",
     "text": [
      "4: data/ieee_cis_train_cropped/Definite+cropped+ieeecis+data/2020/01/20/final_cropped_data.csv\n"
     ]
    }
   ],
   "source": [
    "i = 0\n",
    "file_to_retrieve_2 = 'final_cropped_data.csv'\n",
    "for content_element in content_list:\n",
    "    if file_to_retrieve_2 in content_element['Key']: \n",
    "        print('{}: {}'.format(str(i), content_element['Key']))\n",
    "    i += 1"
   ]
  },
  {
   "cell_type": "code",
   "execution_count": 14,
   "metadata": {},
   "outputs": [
    {
     "name": "stdout",
     "output_type": "stream",
     "text": [
      "In Liste vorhandene Element: 1\n"
     ]
    }
   ],
   "source": [
    "file_list_2 = []\n",
    "for content_element in content_list:\n",
    "    if file_to_retrieve_2 in content_element['Key']:\n",
    "        file_list_2.append(content_element['Key'])\n",
    "print('In Liste vorhandene Element: {}'.format(str(len(file_list))))"
   ]
  },
  {
   "cell_type": "code",
   "execution_count": 15,
   "metadata": {},
   "outputs": [
    {
     "name": "stdout",
     "output_type": "stream",
     "text": [
      "Type of object: <type 'dict'>\n"
     ]
    }
   ],
   "source": [
    "s3_file_2 = s3_client.get_object(Bucket=bucket_name, Key=file_list_2[0])\n",
    "print('Type of object: {}'.format(str(type(s3_file))))"
   ]
  },
  {
   "cell_type": "code",
   "execution_count": 16,
   "metadata": {},
   "outputs": [
    {
     "name": "stdout",
     "output_type": "stream",
     "text": [
      "Type of object: <type 'str'>\n"
     ]
    }
   ],
   "source": [
    "result_file_2 = s3_file_2['Body'].read()\n",
    "print('Type of object: {}'.format(str(type(result_file))))"
   ]
  },
  {
   "cell_type": "code",
   "execution_count": 17,
   "metadata": {},
   "outputs": [
    {
     "data": {
      "text/html": [
       "<div>\n",
       "<style scoped>\n",
       "    .dataframe tbody tr th:only-of-type {\n",
       "        vertical-align: middle;\n",
       "    }\n",
       "\n",
       "    .dataframe tbody tr th {\n",
       "        vertical-align: top;\n",
       "    }\n",
       "\n",
       "    .dataframe thead th {\n",
       "        text-align: right;\n",
       "    }\n",
       "</style>\n",
       "<table border=\"1\" class=\"dataframe\">\n",
       "  <thead>\n",
       "    <tr style=\"text-align: right;\">\n",
       "      <th></th>\n",
       "      <th>credit_card_number</th>\n",
       "      <th>transaction_id</th>\n",
       "      <th>transaction_is_fraudulent</th>\n",
       "      <th>amount_spent</th>\n",
       "      <th>transaction_time_delta</th>\n",
       "      <th>credit_card_holder</th>\n",
       "      <th>credit_card_expiration_date</th>\n",
       "      <th>crdeit_card_validation_code_two</th>\n",
       "    </tr>\n",
       "  </thead>\n",
       "  <tbody>\n",
       "    <tr>\n",
       "      <th>0</th>\n",
       "      <td>1000</td>\n",
       "      <td>3230924</td>\n",
       "      <td>0</td>\n",
       "      <td>23.443</td>\n",
       "      <td>5787419</td>\n",
       "      <td>555.0</td>\n",
       "      <td>185.0</td>\n",
       "      <td>224.0</td>\n",
       "    </tr>\n",
       "    <tr>\n",
       "      <th>1</th>\n",
       "      <td>1001</td>\n",
       "      <td>3023634</td>\n",
       "      <td>0</td>\n",
       "      <td>183.000</td>\n",
       "      <td>916268</td>\n",
       "      <td>555.0</td>\n",
       "      <td>150.0</td>\n",
       "      <td>226.0</td>\n",
       "    </tr>\n",
       "    <tr>\n",
       "      <th>2</th>\n",
       "      <td>1001</td>\n",
       "      <td>3210739</td>\n",
       "      <td>0</td>\n",
       "      <td>27.000</td>\n",
       "      <td>5270458</td>\n",
       "      <td>555.0</td>\n",
       "      <td>150.0</td>\n",
       "      <td>226.0</td>\n",
       "    </tr>\n",
       "    <tr>\n",
       "      <th>3</th>\n",
       "      <td>1001</td>\n",
       "      <td>3151336</td>\n",
       "      <td>0</td>\n",
       "      <td>29.000</td>\n",
       "      <td>3504180</td>\n",
       "      <td>555.0</td>\n",
       "      <td>150.0</td>\n",
       "      <td>226.0</td>\n",
       "    </tr>\n",
       "    <tr>\n",
       "      <th>4</th>\n",
       "      <td>1004</td>\n",
       "      <td>3504379</td>\n",
       "      <td>0</td>\n",
       "      <td>226.000</td>\n",
       "      <td>13553567</td>\n",
       "      <td>583.0</td>\n",
       "      <td>150.0</td>\n",
       "      <td>226.0</td>\n",
       "    </tr>\n",
       "  </tbody>\n",
       "</table>\n",
       "</div>"
      ],
      "text/plain": [
       "   credit_card_number  transaction_id  transaction_is_fraudulent  \\\n",
       "0                1000         3230924                          0   \n",
       "1                1001         3023634                          0   \n",
       "2                1001         3210739                          0   \n",
       "3                1001         3151336                          0   \n",
       "4                1004         3504379                          0   \n",
       "\n",
       "   amount_spent  transaction_time_delta  credit_card_holder  \\\n",
       "0        23.443                 5787419               555.0   \n",
       "1       183.000                  916268               555.0   \n",
       "2        27.000                 5270458               555.0   \n",
       "3        29.000                 3504180               555.0   \n",
       "4       226.000                13553567               583.0   \n",
       "\n",
       "   credit_card_expiration_date  crdeit_card_validation_code_two  \n",
       "0                        185.0                            224.0  \n",
       "1                        150.0                            226.0  \n",
       "2                        150.0                            226.0  \n",
       "3                        150.0                            226.0  \n",
       "4                        150.0                            226.0  "
      ]
     },
     "execution_count": 17,
     "metadata": {},
     "output_type": "execute_result"
    }
   ],
   "source": [
    "df2 = pd.read_csv(io.BytesIO(result_file_2), header=0)\n",
    "df2.head()"
   ]
  },
  {
   "cell_type": "code",
   "execution_count": 18,
   "metadata": {},
   "outputs": [
    {
     "data": {
      "text/plain": [
       "(590540, 8)"
      ]
     },
     "execution_count": 18,
     "metadata": {},
     "output_type": "execute_result"
    }
   ],
   "source": [
    "df2.shape"
   ]
  },
  {
   "cell_type": "markdown",
   "metadata": {},
   "source": [
    "Da nun die Grundlage für die als erste importierten vorliegen, können nun die Datentypen angepasst werden."
   ]
  },
  {
   "cell_type": "code",
   "execution_count": 19,
   "metadata": {},
   "outputs": [
    {
     "data": {
      "text/plain": [
       "credit_card             float64\n",
       "transaction_id          float64\n",
       "amount_spent            float64\n",
       "belonging_to_cluster    float64\n",
       "dtype: object"
      ]
     },
     "execution_count": 19,
     "metadata": {},
     "output_type": "execute_result"
    }
   ],
   "source": [
    "df.dtypes"
   ]
  },
  {
   "cell_type": "code",
   "execution_count": 20,
   "metadata": {},
   "outputs": [],
   "source": [
    "df = df.astype({\n",
    "    'credit_card' : 'int32',\n",
    "    'transaction_id' : 'int32',\n",
    "    })"
   ]
  },
  {
   "cell_type": "markdown",
   "metadata": {},
   "source": [
    "Nun können die Daten nochmals angereichert werden."
   ]
  },
  {
   "cell_type": "code",
   "execution_count": 21,
   "metadata": {},
   "outputs": [
    {
     "data": {
      "text/html": [
       "<div>\n",
       "<style scoped>\n",
       "    .dataframe tbody tr th:only-of-type {\n",
       "        vertical-align: middle;\n",
       "    }\n",
       "\n",
       "    .dataframe tbody tr th {\n",
       "        vertical-align: top;\n",
       "    }\n",
       "\n",
       "    .dataframe thead th {\n",
       "        text-align: right;\n",
       "    }\n",
       "</style>\n",
       "<table border=\"1\" class=\"dataframe\">\n",
       "  <thead>\n",
       "    <tr style=\"text-align: right;\">\n",
       "      <th></th>\n",
       "      <th>credit_card</th>\n",
       "      <th>transaction_id</th>\n",
       "      <th>amount_spent</th>\n",
       "      <th>belonging_to_cluster</th>\n",
       "    </tr>\n",
       "  </thead>\n",
       "  <tbody>\n",
       "    <tr>\n",
       "      <th>0</th>\n",
       "      <td>1000</td>\n",
       "      <td>3230924</td>\n",
       "      <td>23.443001</td>\n",
       "      <td>0.0</td>\n",
       "    </tr>\n",
       "    <tr>\n",
       "      <th>1</th>\n",
       "      <td>1001</td>\n",
       "      <td>3023634</td>\n",
       "      <td>183.000000</td>\n",
       "      <td>0.0</td>\n",
       "    </tr>\n",
       "    <tr>\n",
       "      <th>2</th>\n",
       "      <td>1001</td>\n",
       "      <td>3210739</td>\n",
       "      <td>27.000000</td>\n",
       "      <td>0.0</td>\n",
       "    </tr>\n",
       "    <tr>\n",
       "      <th>3</th>\n",
       "      <td>1001</td>\n",
       "      <td>3151336</td>\n",
       "      <td>29.000000</td>\n",
       "      <td>0.0</td>\n",
       "    </tr>\n",
       "    <tr>\n",
       "      <th>4</th>\n",
       "      <td>1004</td>\n",
       "      <td>3504379</td>\n",
       "      <td>226.000000</td>\n",
       "      <td>0.0</td>\n",
       "    </tr>\n",
       "  </tbody>\n",
       "</table>\n",
       "</div>"
      ],
      "text/plain": [
       "   credit_card  transaction_id  amount_spent  belonging_to_cluster\n",
       "0         1000         3230924     23.443001                   0.0\n",
       "1         1001         3023634    183.000000                   0.0\n",
       "2         1001         3210739     27.000000                   0.0\n",
       "3         1001         3151336     29.000000                   0.0\n",
       "4         1004         3504379    226.000000                   0.0"
      ]
     },
     "execution_count": 21,
     "metadata": {},
     "output_type": "execute_result"
    }
   ],
   "source": [
    "df.head()"
   ]
  },
  {
   "cell_type": "code",
   "execution_count": 22,
   "metadata": {},
   "outputs": [],
   "source": [
    "df2 = df2.drop(columns=[\n",
    "    'credit_card_number',\n",
    "    'amount_spent'\n",
    "])"
   ]
  },
  {
   "cell_type": "code",
   "execution_count": 23,
   "metadata": {},
   "outputs": [
    {
     "data": {
      "text/html": [
       "<div>\n",
       "<style scoped>\n",
       "    .dataframe tbody tr th:only-of-type {\n",
       "        vertical-align: middle;\n",
       "    }\n",
       "\n",
       "    .dataframe tbody tr th {\n",
       "        vertical-align: top;\n",
       "    }\n",
       "\n",
       "    .dataframe thead th {\n",
       "        text-align: right;\n",
       "    }\n",
       "</style>\n",
       "<table border=\"1\" class=\"dataframe\">\n",
       "  <thead>\n",
       "    <tr style=\"text-align: right;\">\n",
       "      <th></th>\n",
       "      <th>credit_card</th>\n",
       "      <th>transaction_id</th>\n",
       "      <th>amount_spent</th>\n",
       "      <th>belonging_to_cluster</th>\n",
       "      <th>transaction_is_fraudulent</th>\n",
       "      <th>transaction_time_delta</th>\n",
       "      <th>credit_card_holder</th>\n",
       "      <th>credit_card_expiration_date</th>\n",
       "      <th>crdeit_card_validation_code_two</th>\n",
       "    </tr>\n",
       "  </thead>\n",
       "  <tbody>\n",
       "    <tr>\n",
       "      <th>0</th>\n",
       "      <td>1000</td>\n",
       "      <td>3230924</td>\n",
       "      <td>23.443001</td>\n",
       "      <td>0.0</td>\n",
       "      <td>0</td>\n",
       "      <td>5787419</td>\n",
       "      <td>555.0</td>\n",
       "      <td>185.0</td>\n",
       "      <td>224.0</td>\n",
       "    </tr>\n",
       "    <tr>\n",
       "      <th>2</th>\n",
       "      <td>1001</td>\n",
       "      <td>3023634</td>\n",
       "      <td>183.000000</td>\n",
       "      <td>0.0</td>\n",
       "      <td>0</td>\n",
       "      <td>916268</td>\n",
       "      <td>555.0</td>\n",
       "      <td>150.0</td>\n",
       "      <td>226.0</td>\n",
       "    </tr>\n",
       "    <tr>\n",
       "      <th>4</th>\n",
       "      <td>1001</td>\n",
       "      <td>3210739</td>\n",
       "      <td>27.000000</td>\n",
       "      <td>0.0</td>\n",
       "      <td>0</td>\n",
       "      <td>5270458</td>\n",
       "      <td>555.0</td>\n",
       "      <td>150.0</td>\n",
       "      <td>226.0</td>\n",
       "    </tr>\n",
       "    <tr>\n",
       "      <th>6</th>\n",
       "      <td>1001</td>\n",
       "      <td>3151336</td>\n",
       "      <td>29.000000</td>\n",
       "      <td>0.0</td>\n",
       "      <td>0</td>\n",
       "      <td>3504180</td>\n",
       "      <td>555.0</td>\n",
       "      <td>150.0</td>\n",
       "      <td>226.0</td>\n",
       "    </tr>\n",
       "    <tr>\n",
       "      <th>8</th>\n",
       "      <td>1004</td>\n",
       "      <td>3504379</td>\n",
       "      <td>226.000000</td>\n",
       "      <td>0.0</td>\n",
       "      <td>0</td>\n",
       "      <td>13553567</td>\n",
       "      <td>583.0</td>\n",
       "      <td>150.0</td>\n",
       "      <td>226.0</td>\n",
       "    </tr>\n",
       "  </tbody>\n",
       "</table>\n",
       "</div>"
      ],
      "text/plain": [
       "   credit_card  transaction_id  amount_spent  belonging_to_cluster  \\\n",
       "0         1000         3230924     23.443001                   0.0   \n",
       "2         1001         3023634    183.000000                   0.0   \n",
       "4         1001         3210739     27.000000                   0.0   \n",
       "6         1001         3151336     29.000000                   0.0   \n",
       "8         1004         3504379    226.000000                   0.0   \n",
       "\n",
       "   transaction_is_fraudulent  transaction_time_delta  credit_card_holder  \\\n",
       "0                          0                 5787419               555.0   \n",
       "2                          0                  916268               555.0   \n",
       "4                          0                 5270458               555.0   \n",
       "6                          0                 3504180               555.0   \n",
       "8                          0                13553567               583.0   \n",
       "\n",
       "   credit_card_expiration_date  crdeit_card_validation_code_two  \n",
       "0                        185.0                            224.0  \n",
       "2                        150.0                            226.0  \n",
       "4                        150.0                            226.0  \n",
       "6                        150.0                            226.0  \n",
       "8                        150.0                            226.0  "
      ]
     },
     "execution_count": 23,
     "metadata": {},
     "output_type": "execute_result"
    }
   ],
   "source": [
    "result_df = pd.merge(df, df2, on='transaction_id')\n",
    "result_df = result_df.drop_duplicates()\n",
    "result_df.head()"
   ]
  },
  {
   "cell_type": "code",
   "execution_count": 24,
   "metadata": {},
   "outputs": [
    {
     "data": {
      "text/plain": [
       "(590540, 9)"
      ]
     },
     "execution_count": 24,
     "metadata": {},
     "output_type": "execute_result"
    }
   ],
   "source": [
    "result_df.shape"
   ]
  },
  {
   "cell_type": "markdown",
   "metadata": {},
   "source": [
    "Nun werden die Daten selektiert, die für das Training relevant sind. Dafür wird das Kaufverhalten aller Kreditkarten in sofern geprüft, als das die prozentuale Verteilung der Cluster-Zugehörigkeit untersucht wird. Sollte eine < 3%ige Abweichung des Kaufverhaltens festgestellt werden, so gelten diese als <i>verdächtig</i>. Diese verdächtigen Transaktionen werden dann in einem separaten <code>DataFrame</code> gesammelt und als Input für das Training des KNN verwendet. Entsprechend wird im folgenden ein Algorithmus entwickelt, der diese Transaktionen ermittelt."
   ]
  },
  {
   "cell_type": "code",
   "execution_count": 25,
   "metadata": {},
   "outputs": [
    {
     "name": "stdout",
     "output_type": "stream",
     "text": [
      "Element in credit_cards: 13553\n"
     ]
    }
   ],
   "source": [
    "credit_cards = result_df.credit_card.unique()\n",
    "print('Element in credit_cards: {}'.format(str(len(credit_cards))))"
   ]
  },
  {
   "cell_type": "code",
   "execution_count": 26,
   "metadata": {},
   "outputs": [
    {
     "name": "stdout",
     "output_type": "stream",
     "text": [
      "Element in credit_card_df_list: 13553\n"
     ]
    }
   ],
   "source": [
    "credit_card_df_list = []\n",
    "for c_card in credit_cards:\n",
    "    tmp_df = result_df[result_df['credit_card'] == c_card]\n",
    "    credit_card_df_list.append(tmp_df)\n",
    "print('Element in credit_card_df_list: {}'.format(str(len(credit_card_df_list))))"
   ]
  },
  {
   "cell_type": "code",
   "execution_count": 27,
   "metadata": {},
   "outputs": [],
   "source": [
    "def calculate_precentage(total_count, proportionate_count):\n",
    "    return (100 / total_count) * proportionate_count"
   ]
  },
  {
   "cell_type": "code",
   "execution_count": 28,
   "metadata": {},
   "outputs": [],
   "source": [
    "cluster_column = 'belonging_to_cluster'\n",
    "cluster_0 = 0.0\n",
    "cluster_1 = 1.0\n",
    "cluster_2 = 2.0"
   ]
  },
  {
   "cell_type": "code",
   "execution_count": 29,
   "metadata": {},
   "outputs": [
    {
     "name": "stdout",
     "output_type": "stream",
     "text": [
      "Number of credit cards: 723\n"
     ]
    }
   ],
   "source": [
    "i = 0\n",
    "result_data = []\n",
    "for c_card_df in range(0, len(credit_card_df_list)):\n",
    "    total = len(credit_card_df_list[c_card_df].index)\n",
    "    t_belonging_to_cluster_0 = len(credit_card_df_list[c_card_df].loc[credit_card_df_list[c_card_df][cluster_column] == cluster_0])\n",
    "    t_belonging_to_cluster_1 = len(credit_card_df_list[c_card_df].loc[credit_card_df_list[c_card_df][cluster_column] == cluster_1])\n",
    "    t_belonging_to_cluster_2 = len(credit_card_df_list[c_card_df].loc[credit_card_df_list[c_card_df][cluster_column] == cluster_2])\n",
    "    if calculate_precentage(total, t_belonging_to_cluster_0) < 15 and calculate_precentage(total, t_belonging_to_cluster_0) != 0.0:\n",
    "        result_data.append(credit_card_df_list[c_card_df][credit_card_df_list[c_card_df][cluster_column] == cluster_0])\n",
    "        i+=1\n",
    "    elif calculate_precentage(total, t_belonging_to_cluster_0) < 15 and calculate_precentage(total, t_belonging_to_cluster_1) != 0.0:\n",
    "        result_data.append(credit_card_df_list[c_card_df][credit_card_df_list[c_card_df][cluster_column] == cluster_1])\n",
    "        i+=1\n",
    "    elif calculate_precentage(total, t_belonging_to_cluster_0) < 15 and calculate_precentage(total, t_belonging_to_cluster_2) != 0.0:\n",
    "        result_data.append(credit_card_df_list[c_card_df][credit_card_df_list[c_card_df][cluster_column] == cluster_2])\n",
    "        i+=1\n",
    "print('Number of credit cards: {}'.format(str(i)))"
   ]
  },
  {
   "cell_type": "code",
   "execution_count": 30,
   "metadata": {},
   "outputs": [
    {
     "name": "stdout",
     "output_type": "stream",
     "text": [
      "Elements in List: 1091\n",
      "Elements fraudulent: 88\n",
      "Elements not fraudulent: 1003\n"
     ]
    }
   ],
   "source": [
    "general_count = 0\n",
    "fraud = 0\n",
    "isNotFraud = 0\n",
    "for element in result_data:\n",
    "    fraud_list = element['transaction_is_fraudulent'].values.tolist()\n",
    "    general_count += len(fraud_list)\n",
    "    for f in fraud_list:\n",
    "        if f == 0.0:\n",
    "            isNotFraud += 1\n",
    "        else:\n",
    "            fraud += 1\n",
    "print('Elements in List: {}\\nElements fraudulent: {}\\nElements not fraudulent: {}'.format(general_count, fraud, isNotFraud))"
   ]
  },
  {
   "cell_type": "code",
   "execution_count": 31,
   "metadata": {},
   "outputs": [],
   "source": [
    "final_df = result_data[0]"
   ]
  },
  {
   "cell_type": "code",
   "execution_count": 32,
   "metadata": {},
   "outputs": [
    {
     "data": {
      "text/html": [
       "<div>\n",
       "<style scoped>\n",
       "    .dataframe tbody tr th:only-of-type {\n",
       "        vertical-align: middle;\n",
       "    }\n",
       "\n",
       "    .dataframe tbody tr th {\n",
       "        vertical-align: top;\n",
       "    }\n",
       "\n",
       "    .dataframe thead th {\n",
       "        text-align: right;\n",
       "    }\n",
       "</style>\n",
       "<table border=\"1\" class=\"dataframe\">\n",
       "  <thead>\n",
       "    <tr style=\"text-align: right;\">\n",
       "      <th></th>\n",
       "      <th>credit_card</th>\n",
       "      <th>transaction_id</th>\n",
       "      <th>amount_spent</th>\n",
       "      <th>belonging_to_cluster</th>\n",
       "      <th>transaction_is_fraudulent</th>\n",
       "      <th>transaction_time_delta</th>\n",
       "      <th>credit_card_holder</th>\n",
       "      <th>credit_card_expiration_date</th>\n",
       "      <th>crdeit_card_validation_code_two</th>\n",
       "    </tr>\n",
       "  </thead>\n",
       "  <tbody>\n",
       "    <tr>\n",
       "      <th>0</th>\n",
       "      <td>1010</td>\n",
       "      <td>3378279</td>\n",
       "      <td>277.932007</td>\n",
       "      <td>2.0</td>\n",
       "      <td>0</td>\n",
       "      <td>9826142</td>\n",
       "      <td>555.0</td>\n",
       "      <td>121.0</td>\n",
       "      <td>226.0</td>\n",
       "    </tr>\n",
       "    <tr>\n",
       "      <th>1</th>\n",
       "      <td>1060</td>\n",
       "      <td>3113789</td>\n",
       "      <td>387.950012</td>\n",
       "      <td>2.0</td>\n",
       "      <td>0</td>\n",
       "      <td>2507926</td>\n",
       "      <td>512.0</td>\n",
       "      <td>150.0</td>\n",
       "      <td>226.0</td>\n",
       "    </tr>\n",
       "    <tr>\n",
       "      <th>2</th>\n",
       "      <td>1096</td>\n",
       "      <td>3409488</td>\n",
       "      <td>349.950012</td>\n",
       "      <td>2.0</td>\n",
       "      <td>0</td>\n",
       "      <td>10698273</td>\n",
       "      <td>275.0</td>\n",
       "      <td>150.0</td>\n",
       "      <td>224.0</td>\n",
       "    </tr>\n",
       "    <tr>\n",
       "      <th>3</th>\n",
       "      <td>1096</td>\n",
       "      <td>3502806</td>\n",
       "      <td>554.000000</td>\n",
       "      <td>2.0</td>\n",
       "      <td>0</td>\n",
       "      <td>13489746</td>\n",
       "      <td>275.0</td>\n",
       "      <td>150.0</td>\n",
       "      <td>224.0</td>\n",
       "    </tr>\n",
       "    <tr>\n",
       "      <th>4</th>\n",
       "      <td>1099</td>\n",
       "      <td>3573933</td>\n",
       "      <td>250.000000</td>\n",
       "      <td>2.0</td>\n",
       "      <td>0</td>\n",
       "      <td>15708121</td>\n",
       "      <td>399.0</td>\n",
       "      <td>150.0</td>\n",
       "      <td>185.0</td>\n",
       "    </tr>\n",
       "  </tbody>\n",
       "</table>\n",
       "</div>"
      ],
      "text/plain": [
       "   credit_card  transaction_id  amount_spent  belonging_to_cluster  \\\n",
       "0         1010         3378279    277.932007                   2.0   \n",
       "1         1060         3113789    387.950012                   2.0   \n",
       "2         1096         3409488    349.950012                   2.0   \n",
       "3         1096         3502806    554.000000                   2.0   \n",
       "4         1099         3573933    250.000000                   2.0   \n",
       "\n",
       "   transaction_is_fraudulent  transaction_time_delta  credit_card_holder  \\\n",
       "0                          0                 9826142               555.0   \n",
       "1                          0                 2507926               512.0   \n",
       "2                          0                10698273               275.0   \n",
       "3                          0                13489746               275.0   \n",
       "4                          0                15708121               399.0   \n",
       "\n",
       "   credit_card_expiration_date  crdeit_card_validation_code_two  \n",
       "0                        121.0                            226.0  \n",
       "1                        150.0                            226.0  \n",
       "2                        150.0                            224.0  \n",
       "3                        150.0                            224.0  \n",
       "4                        150.0                            185.0  "
      ]
     },
     "execution_count": 32,
     "metadata": {},
     "output_type": "execute_result"
    }
   ],
   "source": [
    "for i in range(1, len(result_data)):\n",
    "    final_df = final_df.append(result_data[i], ignore_index=True)\n",
    "final_df.head()"
   ]
  },
  {
   "cell_type": "markdown",
   "metadata": {},
   "source": [
    "Nun ist das DataFrame für das Training des KNN fertiggestellt. Im Anschluss werden nun die Labels aus dem <code>DataFrame</code> in ein separates 1-dimensionales <code>numpy</code> array geschrieben. Daran anschließened werden alle kategorischen Daten aus dem <code>DataFrame</code> entfernt, sodass nur dieses nur noch aus den Spalten <code>amount_spent</code> und <code>transaction_time_delta</code> besteht."
   ]
  },
  {
   "cell_type": "code",
   "execution_count": 33,
   "metadata": {},
   "outputs": [],
   "source": [
    "train_df = final_df[:654]\n",
    "test_df = final_df[655:]"
   ]
  },
  {
   "cell_type": "code",
   "execution_count": 34,
   "metadata": {},
   "outputs": [
    {
     "name": "stdout",
     "output_type": "stream",
     "text": [
      "<type 'numpy.ndarray'>\n",
      "<type 'numpy.ndarray'>\n"
     ]
    }
   ],
   "source": [
    "train_fraudulent_label_list = train_df['transaction_is_fraudulent'].values.tolist()\n",
    "test_fraudulent_label_list = test_df['transaction_is_fraudulent'].values.tolist()\n",
    "train_fraudulent_label_list = np.asarray(train_fraudulent_label_list)\n",
    "test_fraudulent_label_list = np.asarray(test_fraudulent_label_list)\n",
    "print(type(train_fraudulent_label_list))\n",
    "print(type(test_fraudulent_label_list))"
   ]
  },
  {
   "cell_type": "code",
   "execution_count": 35,
   "metadata": {},
   "outputs": [],
   "source": [
    "cols_to_drop = ['credit_card', 'transaction_id', 'belonging_to_cluster', 'transaction_is_fraudulent', 'credit_card_holder', 'credit_card_expiration_date', 'crdeit_card_validation_code_two']\n",
    "modified_train_df = train_df.drop(columns=cols_to_drop)\n",
    "modified_test_df = test_df.drop(columns=cols_to_drop)"
   ]
  },
  {
   "cell_type": "markdown",
   "metadata": {},
   "source": [
    "Dieses kann nun normalisiert werden."
   ]
  },
  {
   "cell_type": "code",
   "execution_count": 36,
   "metadata": {},
   "outputs": [],
   "source": [
    "min_max_scaler = preprocessing.MinMaxScaler()"
   ]
  },
  {
   "cell_type": "code",
   "execution_count": 37,
   "metadata": {},
   "outputs": [],
   "source": [
    "modified_train_df_as_numpy = modified_train_df.values\n",
    "modified_test_df_as_numpy = modified_test_df.values\n",
    "modified_train_df_as_numpy_normalized = min_max_scaler.fit_transform(modified_train_df_as_numpy)\n",
    "modified_test_df_as_numpy_normalized = min_max_scaler.fit_transform(modified_test_df_as_numpy)\n",
    "normalized_modified_train_df = pd.DataFrame(modified_train_df_as_numpy_normalized)\n",
    "normalized_modified_test_df = pd.DataFrame(modified_test_df_as_numpy_normalized)"
   ]
  },
  {
   "cell_type": "markdown",
   "metadata": {},
   "source": [
    "## KNN\n",
    "Im weiteren Verlauf wird ein Feed Forward Neural Net mit nur einer Hidden Layer erstellt:\n",
    "<ul>\n",
    "    <li>Input Layer: 1 Node</li>\n",
    "    <li>Hidden Layer: 2/4/8 Nodes, mit unterschiedlichen <a href=\"https://www.tensorflow.org/api_docs/python/tf/keras/activations\">Aktivierungsfunktionen</a></li>\n",
    "    <li>Output LayeR: 2 Nodes (jeweils eine Node für <i>fraud</i> bzw. <i>no fraud</i> )\n",
    "</ul>\n",
    "Dabei wird explorativ vorgegangen. Das bedeutet, dass die Hidden Layer in mehreren Iterationen mit verschiedenen Aktiviuerungsfunktionen geprüft wird. Außerdem wird jede Aktivierungsfunktion mit einer unterschiedlichen Anzahl von verbundenen Neuronen geprüft. "
   ]
  },
  {
   "cell_type": "code",
   "execution_count": 499,
   "metadata": {},
   "outputs": [],
   "source": [
    "model = keras.Sequential([\n",
    "    keras.layers.Dense(1),\n",
    "    keras.layers.Dense(8, activation='tanh'),\n",
    "    keras.layers.Dense(2, activation='softmax')\n",
    "])"
   ]
  },
  {
   "cell_type": "code",
   "execution_count": 500,
   "metadata": {},
   "outputs": [],
   "source": [
    "model.compile(optimizer='adam',\n",
    "             loss='sparse_categorical_crossentropy',\n",
    "             metrics=['accuracy'])"
   ]
  },
  {
   "cell_type": "code",
   "execution_count": 501,
   "metadata": {},
   "outputs": [
    {
     "name": "stdout",
     "output_type": "stream",
     "text": [
      "Epoch 1/4\n",
      "654/654 [==============================] - 1s 895us/sample - loss: 0.6612 - acc: 0.8639\n",
      "Epoch 2/4\n",
      "654/654 [==============================] - 0s 60us/sample - loss: 0.6081 - acc: 0.9052\n",
      "Epoch 3/4\n",
      "654/654 [==============================] - 0s 59us/sample - loss: 0.5533 - acc: 0.9052\n",
      "Epoch 4/4\n",
      "654/654 [==============================] - 0s 59us/sample - loss: 0.4980 - acc: 0.9052\n"
     ]
    },
    {
     "data": {
      "text/plain": [
       "<tensorflow.python.keras.callbacks.History at 0x7f9fd34d6e10>"
      ]
     },
     "execution_count": 501,
     "metadata": {},
     "output_type": "execute_result"
    }
   ],
   "source": [
    "model.fit(normalized_modified_train_df.values, train_fraudulent_label_list, epochs=4)"
   ]
  },
  {
   "cell_type": "code",
   "execution_count": 502,
   "metadata": {},
   "outputs": [
    {
     "name": "stdout",
     "output_type": "stream",
     "text": [
      "436/436 - 1s - loss: 0.4474 - acc: 0.9404\n",
      "\n",
      "Test accuracy: 0.940367\n"
     ]
    }
   ],
   "source": [
    "test_loss, test_acc = model.evaluate(normalized_modified_test_df.values, test_fraudulent_label_list, verbose=2)\n",
    "print('\\nTest accuracy:', test_acc)"
   ]
  },
  {
   "cell_type": "code",
   "execution_count": 498,
   "metadata": {},
   "outputs": [],
   "source": [
    "model = None"
   ]
  }
 ],
 "metadata": {
  "kernelspec": {
   "display_name": "conda_amazonei_tensorflow_p27",
   "language": "python",
   "name": "conda_amazonei_tensorflow_p27"
  },
  "language_info": {
   "codemirror_mode": {
    "name": "ipython",
    "version": 2
   },
   "file_extension": ".py",
   "mimetype": "text/x-python",
   "name": "python",
   "nbconvert_exporter": "python",
   "pygments_lexer": "ipython2",
   "version": "2.7.15"
  }
 },
 "nbformat": 4,
 "nbformat_minor": 4
}
