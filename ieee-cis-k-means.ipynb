{
 "cells": [
  {
   "cell_type": "markdown",
   "metadata": {},
   "source": [
    "# FOM - Anwendungsfelder der Business Analytics am Beispiel von Fraud Detection im von Kreditkartentransaktionen\n",
    "\n",
    "In diesem Jupyter Notebook soll der nicht-überwachte K-Means Algorithmus für das vollautomatische Clustering von Kreditkartentransaktionen verwendet werden. Dieser K-Means Algortihmus soll auf den in einer Kreditkartentransaktion bezahlten Geldbetrag angewandt werden, sodass im Anschluss geprüft werden kann, zu welchem Cluter eine Kreditkarte gehört. Mit diesem Vorgehen kann das Verwendungsprofil einer Kreditkarte identifiziert werden.\n",
    "\n",
    "<b>Für dieses Vorhaben werden folgende Schritte unternommen:</b>\n",
    "1. Import aller benötigten Python Packages\n",
    "2. Laden der Daten aus dem AWS S3 Bucket\n",
    "3. \n",
    "\n",
    "Im folgenden wird mit dem Import alles benötigten Python Packages begonnen."
   ]
  },
  {
   "cell_type": "code",
   "execution_count": 9,
   "metadata": {},
   "outputs": [],
   "source": [
    "# import python packages required for k-means-clustering\n",
    "import os\n",
    "import io\n",
    "import boto3\n",
    "import json\n",
    "import pandas as pd\n",
    "from sagemaker import KMeans, get_execution_role"
   ]
  },
  {
   "cell_type": "markdown",
   "metadata": {},
   "source": [
    "Daran anschließend werden zunächst die benötigten Trainings Daten importiert. Da diese in einem S3 Bucket gehalten werden, muss zunächst der <code>Boto3 Client</code> initialisiert werden."
   ]
  },
  {
   "cell_type": "code",
   "execution_count": 4,
   "metadata": {},
   "outputs": [],
   "source": [
    "s3_client = boto3.client('s3')\n",
    "bucket_name = 'anwendungsfelder-big-data-fraud-detection-ieee-cis-data-set'"
   ]
  },
  {
   "cell_type": "markdown",
   "metadata": {},
   "source": [
    "Der S3 Client wird nun für die Erstellung einer Liste aller in dem S3 Bucket enthaltenden Elemente verwendet."
   ]
  },
  {
   "cell_type": "code",
   "execution_count": 14,
   "metadata": {},
   "outputs": [
    {
     "name": "stdout",
     "output_type": "stream",
     "text": [
      "ResponseMetadata\n",
      "IsTruncated\n",
      "Marker\n",
      "Contents\n",
      "Name\n",
      "Prefix\n",
      "MaxKeys\n",
      "EncodingType\n"
     ]
    }
   ],
   "source": [
    "obj_list = s3_client.list_objects(Bucket=bucket_name)\n",
    "for element in obj_list:\n",
    "    print(element)"
   ]
  },
  {
   "cell_type": "markdown",
   "metadata": {},
   "source": [
    "Da der Inhalt benötigt wird, wird im folgenden der Key <code>Contents</code> betrachtet."
   ]
  },
  {
   "cell_type": "code",
   "execution_count": 22,
   "metadata": {},
   "outputs": [
    {
     "name": "stdout",
     "output_type": "stream",
     "text": [
      "0: data/\n",
      "1: data/ieee_cis_train_cropped/\n",
      "2: data/ieee_cis_train_cropped/Definite+cropped+ieeecis+data/2020/01/20/95edc928-d16f-4c73-9c76-0c6b03e7b2a2.csv.metadata\n",
      "3: data/ieee_cis_train_cropped/Definite+cropped+ieeecis+data/2020/01/20/final_cropped_data.csv\n",
      "4: data/ieee_cis_train_cropped/Unsaved/2020/01/18/63c36171-c759-4f56-bbc6-923798bacddf.csv.metadata\n",
      "5: data/ieee_cis_train_cropped/Unsaved/2020/01/18/train_cropped_transaction_identity.csv\n",
      "6: data/sample_submission.csv\n",
      "7: data/test_identity/\n",
      "8: data/test_identity/test_identity.csv\n",
      "9: data/test_transaction/\n",
      "10: data/test_transaction/test_transaction.csv\n",
      "11: data/train_identity/\n",
      "12: data/train_identity/train_identity.csv\n",
      "13: data/train_transaction/\n",
      "14: data/train_transaction/train_transaction.csv\n",
      "15: result/\n",
      "16: result/kmeans-2020-01-21-19-36-57-444/output/model.tar.gz\n"
     ]
    }
   ],
   "source": [
    "i = 0\n",
    "for content_element in obj_list['Contents']:\n",
    "    print(\"{}: {}\".format(str(i), content_element['Key']))\n",
    "    i += 1"
   ]
  },
  {
   "cell_type": "markdown",
   "metadata": {},
   "source": [
    "Die für diesen Anwendungsfall benötigten Daten liegen auf Index 3 (<code>data/ieee_cis_train_cropped/Definite+cropped+ieeecis+data/2020/01/20/final_cropped_data.csv</code>). Diese wurden bereits unter Verwendung von AWS Glue und AWS Athena vorbereitet.</br>\n",
    "Nun wird ein Array aus bestehend aus den in dem Bucket enthaltenden Element Keys erstellt und spezifiziert auf Index drei zugegriffen, sodass die Daten dann aus dem S3 Bucket geladen werden können."
   ]
  },
  {
   "cell_type": "code",
   "execution_count": 25,
   "metadata": {},
   "outputs": [
    {
     "name": "stdout",
     "output_type": "stream",
     "text": [
      "Number of elements in array: 17\n"
     ]
    }
   ],
   "source": [
    "# store each object key in a file array and print its length\n",
    "file_array = []\n",
    "for content_element in obj_list['Contents']:\n",
    "    file_array.append(content_element['Key'])\n",
    "\n",
    "print('Number of elements in array: {}'.format(len(file_array)))"
   ]
  },
  {
   "cell_type": "code",
   "execution_count": 27,
   "metadata": {},
   "outputs": [
    {
     "name": "stdout",
     "output_type": "stream",
     "text": [
      "data/ieee_cis_train_cropped/Definite+cropped+ieeecis+data/2020/01/20/final_cropped_data.csv\n"
     ]
    }
   ],
   "source": [
    "# get required file from array\n",
    "required_file = file_array[3]\n",
    "print(required_file)"
   ]
  },
  {
   "cell_type": "code",
   "execution_count": 36,
   "metadata": {},
   "outputs": [
    {
     "name": "stdout",
     "output_type": "stream",
     "text": [
      "Type of object: <class 'dict'>\n",
      "Type of object: <class 'bytes'>\n"
     ]
    }
   ],
   "source": [
    "s3_file = s3_client.get_object(Bucket=bucket_name, Key=required_file)\n",
    "print('Type of object: {}'.format(str(type(s3_file))))\n",
    "\n",
    "result_file = s3_file['Body'].read()\n",
    "print('Type of object: {}'.format(str(type(result_file))))"
   ]
  }
 ],
 "metadata": {
  "kernelspec": {
   "display_name": "conda_python3",
   "language": "python",
   "name": "conda_python3"
  },
  "language_info": {
   "codemirror_mode": {
    "name": "ipython",
    "version": 3
   },
   "file_extension": ".py",
   "mimetype": "text/x-python",
   "name": "python",
   "nbconvert_exporter": "python",
   "pygments_lexer": "ipython3",
   "version": "3.6.5"
  }
 },
 "nbformat": 4,
 "nbformat_minor": 4
}
